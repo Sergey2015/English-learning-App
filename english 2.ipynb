{
 "cells": [
  {
   "attachments": {},
   "cell_type": "markdown",
   "metadata": {},
   "source": [
    "### План\n",
    "\n",
    "1. Разбиваем весь текст на токены-слова\n",
    "2. Удаляем стоп-слова. Местоимения и артикли в исключения\n",
    "2. Приводим все к нижнему регистру\n",
    "3. Уникализируем и подсчитываем количество каждого слова\n",
    "4. Создаем df\n",
    "4. К каждому слову добавляем столько раз предложение, сколько это слово встречается.\n",
    "5. Определяем часть речи и добавляем в df\n",
    "6. Если слово - глагол, что находим его 3 формы и списком добавляем в df. Проделываем эти операции со всеми частями речи по условию if\n",
    "Если артикль, то добавляем этим атриклям в df список всех артиклей (для выбора)\n",
    "\n",
    "\n",
    "### Виды упражнений\n",
    "1. Определить правильный артикль\n",
    "2. Определяем пропущенное слово\n",
    "3. Определить правильную форму глагола. Ищем в предложении все глаголы и предлагаем 3 формы. Не, не пойдет. Времен больше намного\n",
    "4. Расставить слова в правильном порядке. Перемешиваем все и даем выбрать\n",
    "\n",
    "\n",
    "\n"
   ]
  },
  {
   "cell_type": "code",
   "execution_count": 1,
   "metadata": {},
   "outputs": [
    {
     "name": "stderr",
     "output_type": "stream",
     "text": [
      "2023-07-03 17:56:32.737724: I tensorflow/core/platform/cpu_feature_guard.cc:193] This TensorFlow binary is optimized with oneAPI Deep Neural Network Library (oneDNN) to use the following CPU instructions in performance-critical operations:  AVX2 FMA\n",
      "To enable them in other operations, rebuild TensorFlow with the appropriate compiler flags.\n",
      "[nltk_data] Downloading package punkt to /Users/Sergey/nltk_data...\n",
      "[nltk_data]   Package punkt is already up-to-date!\n"
     ]
    }
   ],
   "source": [
    "import nltk\n",
    "import streamlit as st\n",
    "import pandas as pd\n",
    "import spacy\n",
    "import pyinflect\n",
    "import random     \n",
    "import numpy as np\n",
    "\n",
    "from tqdm import tqdm\n",
    "\n",
    "#from googletrans import Translator\n",
    "\n",
    "\n",
    "#from nltk.corpus import stopwords\n",
    "\n",
    "\n",
    "nltk.download('punkt')\n",
    "\n",
    "random.seed(42)\n"
   ]
  },
  {
   "cell_type": "code",
   "execution_count": 17,
   "metadata": {},
   "outputs": [],
   "source": [
    "nlp = spacy.load(\"en_core_web_sm\")"
   ]
  },
  {
   "cell_type": "code",
   "execution_count": null,
   "metadata": {},
   "outputs": [],
   "source": [
    "# Определяем константой типы заданий\n",
    "\n",
    "TASKS = ['Выберите слово', 'Заполните пропуск']"
   ]
  },
  {
   "cell_type": "code",
   "execution_count": null,
   "metadata": {},
   "outputs": [],
   "source": [
    "# Загружаем каждое предложение в отдельную строку df. Ставим сепоратор таб, иначе запятая выдает ошибку\n",
    "df = pd.read_csv('Little_Red_Cap_ Jacob_and_Wilhelm_Grimm.txt', lineterminator = '\\n', header=None, sep=\"\\t\", names=['origin_sentences'])\n",
    "df.head(5)"
   ]
  },
  {
   "cell_type": "code",
   "execution_count": 12,
   "metadata": {},
   "outputs": [],
   "source": [
    "with open('Little_Red_Cap_ Jacob_and_Wilhelm_Grimm.txt') as f:\n",
    "    text = f.read()\n",
    "\n",
    "text = text.replace('\\n','')\n",
    "\n",
    "text = text.replace('\"', '')\n",
    "text = text.replace(',', '')\n",
    "text = text.replace(':', '')\n",
    "text = text.replace('-\"', '')\n",
    "text = text.lower()"
   ]
  },
  {
   "cell_type": "code",
   "execution_count": 13,
   "metadata": {},
   "outputs": [
    {
     "data": {
      "text/plain": [
       "\"once upon a time there was a sweet little girl. everyone who saw her liked her but most of all her grandmother who did not know what to give the child next. once she gave her a little cap made of red velvet. because it suited her so well and she wanted to wear it all the time she came to be known as little red cap.one day her mother said to her come little red cap. here is a piece of cake and a bottle of wine. take them to your grandmother. she is sick and weak and they will do her well. mind your manners and give her my greetings. behave yourself on the way and do not leave the path or you might fall down and break the glass and then there will be nothing for your sick grandmother.little red cap promised to obey her mother. the grandmother lived out in the woods a half hour from the village. when little red cap entered the woods a wolf came up to her. she did not know what a wicked animal he was and was not afraid of him.good day to you little red cap.thank you wolf.where are you going so early little red cap?to grandmother's.and what are you carrying under your apron?grandmother is sick and weak and i am taking her some cake and wine. we baked yesterday and they should give her strength.little red cap just where does your grandmother live?her house is a good quarter hour from here in the woods under the three large oak trees. there's a hedge of hazel bushes there. you must know the place said little red cap.the wolf thought to himself now there is a tasty bite for me. just how are you going to catch her? then he said listen little red cap haven't you seen the beautiful flowers that are blossoming in the woods? why don't you go and take a look? and i don't believe you can hear how beautifully the birds are singing. you are walking along as though you were on your way to school in the village. it is very beautiful in the woods.little red cap opened her eyes and saw the sunlight breaking through the trees and how the ground was covered with beautiful flowers. she thought if a take a bouquet to grandmother she will be very pleased. anyway it is still early and i'll be home on time. and she ran off into the woods looking for flowers. each time she picked one she thought that she could see an even more beautiful one a little way off and she ran after it going further and further into the woods. but the wolf ran straight to the grandmother's house and knocked on the door.who's there?little red cap. i'm bringing you some cake and wine. open the door for me.just press the latch called out the grandmother. i'm too weak to get up.the wolf pressed the latch and the door opened. he stepped inside went straight to the grandmother's bed and ate her up. then he took her clothes put them on and put her cap on his head. he got into her bed and pulled the curtains shut.little red cap had run after flowers and did not continue on her way to grandmother's until she had gathered all that she could carry. when she arrived she found to her surprise that the door was open. she walked into the parlor and everything looked so strange that she thought oh my god why am i so afraid? i usually like it at grandmother's. then she went to the bed and pulled back the curtains. grandmother was lying there with her cap pulled down over her face and looking very strange.oh grandmother what big ears you have!all the better to hear you with.oh grandmother what big eyes you have!all the better to see you with.oh grandmother what big hands you have!all the better to grab you with!oh grandmother what a horribly big mouth you have!all the better to eat you with! and with that he jumped out of bed jumped on top of poor little red cap and ate her up. as soon as the wolf had finished this tasty bite he climbed back into bed fell asleep and began to snore very loudly.a huntsman was just passing by. he thought it strange that the old woman was snoring so loudly so he decided to take a look. he stepped inside and in the bed there lay the wolf that he had been hunting for such a long time. he has eaten the grandmother but perhaps she still can be saved. i won't shoot him thought the huntsman. so he took a pair of scissors and cut open his belly.he had cut only a few strokes when he saw the red cap shining through. he cut a little more and the girl jumped out and cried oh i was so frightened! it was so dark inside the wolf's body!and then the grandmother came out alive as well. then little red cap fetched some large heavy stones. they filled the wolf's body with them and when he woke up and tried to run away the stones were so heavy that he fell down dead.the three of them were happy. the huntsman took the wolf's pelt. the grandmother ate the cake and drank the wine that little red cap had brought. and little red cap thought to herself as long as i live i will never leave the path and run off into the woods by myself if mother tells me not to.they also tell how little red cap was taking some baked things to her grandmother another time when another wolf spoke to her and wanted her to leave the path. but little red cap took care and went straight to grandmother's. she told her that she had seen the wolf and that he had wished her a good day but had stared at her in a wicked manner. if we hadn't been on a public road he would have eaten me up she said.come said the grandmother. let's lock the door so he can't get in.soon afterward the wolf knocked on the door and called out open up grandmother. it's little red cap and i'm bringing you some baked things.they remained silent and did not open the door. the wicked one walked around the house several times and finally jumped onto the roof. he wanted to wait until little red cap went home that evening then follow her and eat her up in the darkness. but the grandmother saw what he was up to. there was a large stone trough in front of the house.fetch a bucket little red cap she said. yesterday i cooked some sausage. carry the water that i boiled them with to the trough. little red cap carried water until the large large trough was clear full. the smell of sausage arose into the wolf's nose. he sniffed and looked down stretching his neck so long that he could no longer hold himself and he began to slide. he slid off the roof fell into the trough and drowned. and little red cap returned home happily and safely.\""
      ]
     },
     "execution_count": 13,
     "metadata": {},
     "output_type": "execute_result"
    }
   ],
   "source": [
    "text"
   ]
  },
  {
   "cell_type": "code",
   "execution_count": 105,
   "metadata": {},
   "outputs": [],
   "source": [
    "tokens_sens = nltk.tokenize.sent_tokenize(text, language='english')\n",
    "\n",
    "#Создаем датафрейм\n",
    "#df = pd.DataFrame(columns=['origin_sentences', 'tokens'])\n",
    "df = pd.DataFrame({'origin_sentences': tokens_sens})\n",
    "df[\"origin_sentences\"] = nltk.tokenize.sent_tokenize(text, language='english')\n",
    "df[\"origin_sentences\"] = df.apply(lambda x: x['origin_sentences'].replace('.', ''), axis=1)"
   ]
  },
  {
   "cell_type": "code",
   "execution_count": 56,
   "metadata": {},
   "outputs": [
    {
     "data": {
      "text/html": [
       "<div>\n",
       "<style scoped>\n",
       "    .dataframe tbody tr th:only-of-type {\n",
       "        vertical-align: middle;\n",
       "    }\n",
       "\n",
       "    .dataframe tbody tr th {\n",
       "        vertical-align: top;\n",
       "    }\n",
       "\n",
       "    .dataframe thead th {\n",
       "        text-align: right;\n",
       "    }\n",
       "</style>\n",
       "<table border=\"1\" class=\"dataframe\">\n",
       "  <thead>\n",
       "    <tr style=\"text-align: right;\">\n",
       "      <th></th>\n",
       "      <th>origin_sentences</th>\n",
       "    </tr>\n",
       "  </thead>\n",
       "  <tbody>\n",
       "    <tr>\n",
       "      <th>0</th>\n",
       "      <td>once upon a time there was a sweet little girl</td>\n",
       "    </tr>\n",
       "    <tr>\n",
       "      <th>1</th>\n",
       "      <td>everyone who saw her liked her but most of all...</td>\n",
       "    </tr>\n",
       "    <tr>\n",
       "      <th>2</th>\n",
       "      <td>once she gave her a little cap made of red velvet</td>\n",
       "    </tr>\n",
       "    <tr>\n",
       "      <th>3</th>\n",
       "      <td>because it suited her so well and she wanted t...</td>\n",
       "    </tr>\n",
       "    <tr>\n",
       "      <th>4</th>\n",
       "      <td>here is a piece of cake and a bottle of wine</td>\n",
       "    </tr>\n",
       "    <tr>\n",
       "      <th>...</th>\n",
       "      <td>...</td>\n",
       "    </tr>\n",
       "    <tr>\n",
       "      <th>62</th>\n",
       "      <td>little red cap carried water until the large l...</td>\n",
       "    </tr>\n",
       "    <tr>\n",
       "      <th>63</th>\n",
       "      <td>the smell of sausage arose into the wolf's nose</td>\n",
       "    </tr>\n",
       "    <tr>\n",
       "      <th>64</th>\n",
       "      <td>he sniffed and looked down stretching his neck...</td>\n",
       "    </tr>\n",
       "    <tr>\n",
       "      <th>65</th>\n",
       "      <td>he slid off the roof fell into the trough and ...</td>\n",
       "    </tr>\n",
       "    <tr>\n",
       "      <th>66</th>\n",
       "      <td>and little red cap returned home happily and s...</td>\n",
       "    </tr>\n",
       "  </tbody>\n",
       "</table>\n",
       "<p>67 rows × 1 columns</p>\n",
       "</div>"
      ],
      "text/plain": [
       "                                     origin_sentences\n",
       "0      once upon a time there was a sweet little girl\n",
       "1   everyone who saw her liked her but most of all...\n",
       "2   once she gave her a little cap made of red velvet\n",
       "3   because it suited her so well and she wanted t...\n",
       "4        here is a piece of cake and a bottle of wine\n",
       "..                                                ...\n",
       "62  little red cap carried water until the large l...\n",
       "63    the smell of sausage arose into the wolf's nose\n",
       "64  he sniffed and looked down stretching his neck...\n",
       "65  he slid off the roof fell into the trough and ...\n",
       "66  and little red cap returned home happily and s...\n",
       "\n",
       "[67 rows x 1 columns]"
      ]
     },
     "execution_count": 56,
     "metadata": {},
     "output_type": "execute_result"
    }
   ],
   "source": [
    "df"
   ]
  },
  {
   "cell_type": "code",
   "execution_count": null,
   "metadata": {},
   "outputs": [],
   "source": []
  },
  {
   "cell_type": "code",
   "execution_count": null,
   "metadata": {},
   "outputs": [],
   "source": []
  },
  {
   "cell_type": "code",
   "execution_count": 52,
   "metadata": {},
   "outputs": [
    {
     "data": {
      "text/html": [
       "<div>\n",
       "<style scoped>\n",
       "    .dataframe tbody tr th:only-of-type {\n",
       "        vertical-align: middle;\n",
       "    }\n",
       "\n",
       "    .dataframe tbody tr th {\n",
       "        vertical-align: top;\n",
       "    }\n",
       "\n",
       "    .dataframe thead th {\n",
       "        text-align: right;\n",
       "    }\n",
       "</style>\n",
       "<table border=\"1\" class=\"dataframe\">\n",
       "  <thead>\n",
       "    <tr style=\"text-align: right;\">\n",
       "      <th></th>\n",
       "      <th>origin_sentences</th>\n",
       "      <th>tokens</th>\n",
       "    </tr>\n",
       "  </thead>\n",
       "  <tbody>\n",
       "    <tr>\n",
       "      <th>0</th>\n",
       "      <td>once upon a time there was a sweet little girl</td>\n",
       "      <td>[origin_sentences,    , once, upon, a, time, t...</td>\n",
       "    </tr>\n",
       "    <tr>\n",
       "      <th>1</th>\n",
       "      <td>everyone who saw her liked her but most of all...</td>\n",
       "      <td>[origin_sentences,    , everyone, who, saw, he...</td>\n",
       "    </tr>\n",
       "    <tr>\n",
       "      <th>2</th>\n",
       "      <td>once she gave her a little cap made of red velvet</td>\n",
       "      <td>[origin_sentences,    , once, she, gave, her, ...</td>\n",
       "    </tr>\n",
       "    <tr>\n",
       "      <th>3</th>\n",
       "      <td>because it suited her so well and she wanted t...</td>\n",
       "      <td>[origin_sentences,    , because, it, suited, h...</td>\n",
       "    </tr>\n",
       "    <tr>\n",
       "      <th>4</th>\n",
       "      <td>here is a piece of cake and a bottle of wine</td>\n",
       "      <td>[origin_sentences,    , here, is, a, piece, of...</td>\n",
       "    </tr>\n",
       "    <tr>\n",
       "      <th>...</th>\n",
       "      <td>...</td>\n",
       "      <td>...</td>\n",
       "    </tr>\n",
       "    <tr>\n",
       "      <th>62</th>\n",
       "      <td>little red cap carried water until the large l...</td>\n",
       "      <td>[origin_sentences,    , little, red, cap, carr...</td>\n",
       "    </tr>\n",
       "    <tr>\n",
       "      <th>63</th>\n",
       "      <td>the smell of sausage arose into the wolf's nose</td>\n",
       "      <td>[origin_sentences,    , the, smell, of, sausag...</td>\n",
       "    </tr>\n",
       "    <tr>\n",
       "      <th>64</th>\n",
       "      <td>he sniffed and looked down stretching his neck...</td>\n",
       "      <td>[origin_sentences,    , he, sniffed, and, look...</td>\n",
       "    </tr>\n",
       "    <tr>\n",
       "      <th>65</th>\n",
       "      <td>he slid off the roof fell into the trough and ...</td>\n",
       "      <td>[origin_sentences,    , he, slid, off, the, ro...</td>\n",
       "    </tr>\n",
       "    <tr>\n",
       "      <th>66</th>\n",
       "      <td>and little red cap returned home happily and s...</td>\n",
       "      <td>[origin_sentences,    , and, little, red, cap,...</td>\n",
       "    </tr>\n",
       "  </tbody>\n",
       "</table>\n",
       "<p>67 rows × 2 columns</p>\n",
       "</div>"
      ],
      "text/plain": [
       "                                     origin_sentences  \\\n",
       "0      once upon a time there was a sweet little girl   \n",
       "1   everyone who saw her liked her but most of all...   \n",
       "2   once she gave her a little cap made of red velvet   \n",
       "3   because it suited her so well and she wanted t...   \n",
       "4        here is a piece of cake and a bottle of wine   \n",
       "..                                                ...   \n",
       "62  little red cap carried water until the large l...   \n",
       "63    the smell of sausage arose into the wolf's nose   \n",
       "64  he sniffed and looked down stretching his neck...   \n",
       "65  he slid off the roof fell into the trough and ...   \n",
       "66  and little red cap returned home happily and s...   \n",
       "\n",
       "                                               tokens  \n",
       "0   [origin_sentences,    , once, upon, a, time, t...  \n",
       "1   [origin_sentences,    , everyone, who, saw, he...  \n",
       "2   [origin_sentences,    , once, she, gave, her, ...  \n",
       "3   [origin_sentences,    , because, it, suited, h...  \n",
       "4   [origin_sentences,    , here, is, a, piece, of...  \n",
       "..                                                ...  \n",
       "62  [origin_sentences,    , little, red, cap, carr...  \n",
       "63  [origin_sentences,    , the, smell, of, sausag...  \n",
       "64  [origin_sentences,    , he, sniffed, and, look...  \n",
       "65  [origin_sentences,    , he, slid, off, the, ro...  \n",
       "66  [origin_sentences,    , and, little, red, cap,...  \n",
       "\n",
       "[67 rows x 2 columns]"
      ]
     },
     "execution_count": 52,
     "metadata": {},
     "output_type": "execute_result"
    }
   ],
   "source": [
    "# for index, sentence in df.iterrows():\n",
    "#     #df['tokens'][index] = [token for token in nlp(sentence)]\n",
    "#     #print(token)\n",
    "#     df['tokens'][index] = [token for token in nlp(str(sentence))]\n",
    "\n",
    "#     #df.loc[len(df)]=[sentence, options, answer, task, []]  \n",
    "# df"
   ]
  },
  {
   "cell_type": "code",
   "execution_count": 106,
   "metadata": {},
   "outputs": [
    {
     "name": "stderr",
     "output_type": "stream",
     "text": [
      "/var/folders/3s/0vl43zsj2n79hlj09xb7sby40000gn/T/ipykernel_32651/3081040105.py:7: DeprecationWarning: [W107] The property `Doc.is_parsed` is deprecated. Use `Doc.has_annotation(\"DEP\")` instead.\n",
      "  if doc.is_parsed:\n"
     ]
    }
   ],
   "source": [
    "tokens = []\n",
    "lemma = []\n",
    "pos = []\n",
    "\n",
    "for doc in nlp.pipe(df['origin_sentences'].astype('unicode').values, batch_size=50,\n",
    "                        ):\n",
    "    if doc.is_parsed:\n",
    "        tokens.append([n.text for n in doc])\n",
    "        lemma.append([n.lemma_ for n in doc])\n",
    "        pos.append([n.pos_ for n in doc])\n",
    "        \n",
    "    else:\n",
    "        # We want to make sure that the lists of parsed results have the\n",
    "        # same number of entries of the original Dataframe, so add some blanks in case the parse fails\n",
    "        tokens.append(None)\n",
    "        lemma.append(None)\n",
    "        pos.append(None)\n",
    "\n",
    "df['word_tokens'] = tokens\n",
    "df['word_lemma'] = lemma\n",
    "df['word_pos'] = pos"
   ]
  },
  {
   "cell_type": "code",
   "execution_count": 58,
   "metadata": {},
   "outputs": [
    {
     "data": {
      "text/html": [
       "<div>\n",
       "<style scoped>\n",
       "    .dataframe tbody tr th:only-of-type {\n",
       "        vertical-align: middle;\n",
       "    }\n",
       "\n",
       "    .dataframe tbody tr th {\n",
       "        vertical-align: top;\n",
       "    }\n",
       "\n",
       "    .dataframe thead th {\n",
       "        text-align: right;\n",
       "    }\n",
       "</style>\n",
       "<table border=\"1\" class=\"dataframe\">\n",
       "  <thead>\n",
       "    <tr style=\"text-align: right;\">\n",
       "      <th></th>\n",
       "      <th>origin_sentences</th>\n",
       "      <th>word_tokens</th>\n",
       "      <th>word_lemma</th>\n",
       "      <th>word_pos</th>\n",
       "    </tr>\n",
       "  </thead>\n",
       "  <tbody>\n",
       "    <tr>\n",
       "      <th>0</th>\n",
       "      <td>once upon a time there was a sweet little girl</td>\n",
       "      <td>[once, upon, a, time, there, was, a, sweet, li...</td>\n",
       "      <td>[once, upon, a, time, there, be, a, sweet, lit...</td>\n",
       "      <td>[ADV, SCONJ, DET, NOUN, PRON, VERB, DET, ADJ, ...</td>\n",
       "    </tr>\n",
       "    <tr>\n",
       "      <th>1</th>\n",
       "      <td>everyone who saw her liked her but most of all...</td>\n",
       "      <td>[everyone, who, saw, her, liked, her, but, mos...</td>\n",
       "      <td>[everyone, who, see, she, like, she, but, most...</td>\n",
       "      <td>[PRON, PRON, VERB, PRON, VERB, PRON, CCONJ, AD...</td>\n",
       "    </tr>\n",
       "    <tr>\n",
       "      <th>2</th>\n",
       "      <td>once she gave her a little cap made of red velvet</td>\n",
       "      <td>[once, she, gave, her, a, little, cap, made, o...</td>\n",
       "      <td>[once, she, give, she, a, little, cap, make, o...</td>\n",
       "      <td>[SCONJ, PRON, VERB, PRON, DET, ADJ, NOUN, VERB...</td>\n",
       "    </tr>\n",
       "    <tr>\n",
       "      <th>3</th>\n",
       "      <td>because it suited her so well and she wanted t...</td>\n",
       "      <td>[because, it, suited, her, so, well, and, she,...</td>\n",
       "      <td>[because, it, suit, she, so, well, and, she, w...</td>\n",
       "      <td>[SCONJ, PRON, VERB, PRON, ADV, ADV, CCONJ, PRO...</td>\n",
       "    </tr>\n",
       "    <tr>\n",
       "      <th>4</th>\n",
       "      <td>here is a piece of cake and a bottle of wine</td>\n",
       "      <td>[here, is, a, piece, of, cake, and, a, bottle,...</td>\n",
       "      <td>[here, be, a, piece, of, cake, and, a, bottle,...</td>\n",
       "      <td>[ADV, AUX, DET, NOUN, ADP, NOUN, CCONJ, DET, N...</td>\n",
       "    </tr>\n",
       "    <tr>\n",
       "      <th>...</th>\n",
       "      <td>...</td>\n",
       "      <td>...</td>\n",
       "      <td>...</td>\n",
       "      <td>...</td>\n",
       "    </tr>\n",
       "    <tr>\n",
       "      <th>62</th>\n",
       "      <td>little red cap carried water until the large l...</td>\n",
       "      <td>[little, red, cap, carried, water, until, the,...</td>\n",
       "      <td>[little, red, cap, carry, water, until, the, l...</td>\n",
       "      <td>[ADJ, ADJ, NOUN, VERB, NOUN, SCONJ, DET, ADJ, ...</td>\n",
       "    </tr>\n",
       "    <tr>\n",
       "      <th>63</th>\n",
       "      <td>the smell of sausage arose into the wolf's nose</td>\n",
       "      <td>[the, smell, of, sausage, arose, into, the, wo...</td>\n",
       "      <td>[the, smell, of, sausage, arise, into, the, wo...</td>\n",
       "      <td>[DET, NOUN, ADP, NOUN, VERB, ADP, DET, NOUN, P...</td>\n",
       "    </tr>\n",
       "    <tr>\n",
       "      <th>64</th>\n",
       "      <td>he sniffed and looked down stretching his neck...</td>\n",
       "      <td>[he, sniffed, and, looked, down, stretching, h...</td>\n",
       "      <td>[he, sniff, and, look, down, stretch, his, nec...</td>\n",
       "      <td>[PRON, VERB, CCONJ, VERB, ADP, VERB, PRON, NOU...</td>\n",
       "    </tr>\n",
       "    <tr>\n",
       "      <th>65</th>\n",
       "      <td>he slid off the roof fell into the trough and ...</td>\n",
       "      <td>[he, slid, off, the, roof, fell, into, the, tr...</td>\n",
       "      <td>[he, slide, off, the, roof, fall, into, the, t...</td>\n",
       "      <td>[PRON, VERB, ADP, DET, NOUN, VERB, ADP, DET, N...</td>\n",
       "    </tr>\n",
       "    <tr>\n",
       "      <th>66</th>\n",
       "      <td>and little red cap returned home happily and s...</td>\n",
       "      <td>[and, little, red, cap, returned, home, happil...</td>\n",
       "      <td>[and, little, red, cap, return, home, happily,...</td>\n",
       "      <td>[CCONJ, ADJ, ADJ, NOUN, VERB, ADV, ADV, CCONJ,...</td>\n",
       "    </tr>\n",
       "  </tbody>\n",
       "</table>\n",
       "<p>67 rows × 4 columns</p>\n",
       "</div>"
      ],
      "text/plain": [
       "                                     origin_sentences  \\\n",
       "0      once upon a time there was a sweet little girl   \n",
       "1   everyone who saw her liked her but most of all...   \n",
       "2   once she gave her a little cap made of red velvet   \n",
       "3   because it suited her so well and she wanted t...   \n",
       "4        here is a piece of cake and a bottle of wine   \n",
       "..                                                ...   \n",
       "62  little red cap carried water until the large l...   \n",
       "63    the smell of sausage arose into the wolf's nose   \n",
       "64  he sniffed and looked down stretching his neck...   \n",
       "65  he slid off the roof fell into the trough and ...   \n",
       "66  and little red cap returned home happily and s...   \n",
       "\n",
       "                                          word_tokens  \\\n",
       "0   [once, upon, a, time, there, was, a, sweet, li...   \n",
       "1   [everyone, who, saw, her, liked, her, but, mos...   \n",
       "2   [once, she, gave, her, a, little, cap, made, o...   \n",
       "3   [because, it, suited, her, so, well, and, she,...   \n",
       "4   [here, is, a, piece, of, cake, and, a, bottle,...   \n",
       "..                                                ...   \n",
       "62  [little, red, cap, carried, water, until, the,...   \n",
       "63  [the, smell, of, sausage, arose, into, the, wo...   \n",
       "64  [he, sniffed, and, looked, down, stretching, h...   \n",
       "65  [he, slid, off, the, roof, fell, into, the, tr...   \n",
       "66  [and, little, red, cap, returned, home, happil...   \n",
       "\n",
       "                                           word_lemma  \\\n",
       "0   [once, upon, a, time, there, be, a, sweet, lit...   \n",
       "1   [everyone, who, see, she, like, she, but, most...   \n",
       "2   [once, she, give, she, a, little, cap, make, o...   \n",
       "3   [because, it, suit, she, so, well, and, she, w...   \n",
       "4   [here, be, a, piece, of, cake, and, a, bottle,...   \n",
       "..                                                ...   \n",
       "62  [little, red, cap, carry, water, until, the, l...   \n",
       "63  [the, smell, of, sausage, arise, into, the, wo...   \n",
       "64  [he, sniff, and, look, down, stretch, his, nec...   \n",
       "65  [he, slide, off, the, roof, fall, into, the, t...   \n",
       "66  [and, little, red, cap, return, home, happily,...   \n",
       "\n",
       "                                             word_pos  \n",
       "0   [ADV, SCONJ, DET, NOUN, PRON, VERB, DET, ADJ, ...  \n",
       "1   [PRON, PRON, VERB, PRON, VERB, PRON, CCONJ, AD...  \n",
       "2   [SCONJ, PRON, VERB, PRON, DET, ADJ, NOUN, VERB...  \n",
       "3   [SCONJ, PRON, VERB, PRON, ADV, ADV, CCONJ, PRO...  \n",
       "4   [ADV, AUX, DET, NOUN, ADP, NOUN, CCONJ, DET, N...  \n",
       "..                                                ...  \n",
       "62  [ADJ, ADJ, NOUN, VERB, NOUN, SCONJ, DET, ADJ, ...  \n",
       "63  [DET, NOUN, ADP, NOUN, VERB, ADP, DET, NOUN, P...  \n",
       "64  [PRON, VERB, CCONJ, VERB, ADP, VERB, PRON, NOU...  \n",
       "65  [PRON, VERB, ADP, DET, NOUN, VERB, ADP, DET, N...  \n",
       "66  [CCONJ, ADJ, ADJ, NOUN, VERB, ADV, ADV, CCONJ,...  \n",
       "\n",
       "[67 rows x 4 columns]"
      ]
     },
     "execution_count": 58,
     "metadata": {},
     "output_type": "execute_result"
    }
   ],
   "source": [
    "df"
   ]
  },
  {
   "cell_type": "code",
   "execution_count": 107,
   "metadata": {},
   "outputs": [
    {
     "data": {
      "text/html": [
       "<div>\n",
       "<style scoped>\n",
       "    .dataframe tbody tr th:only-of-type {\n",
       "        vertical-align: middle;\n",
       "    }\n",
       "\n",
       "    .dataframe tbody tr th {\n",
       "        vertical-align: top;\n",
       "    }\n",
       "\n",
       "    .dataframe thead th {\n",
       "        text-align: right;\n",
       "    }\n",
       "</style>\n",
       "<table border=\"1\" class=\"dataframe\">\n",
       "  <thead>\n",
       "    <tr style=\"text-align: right;\">\n",
       "      <th></th>\n",
       "      <th>origin_sentences</th>\n",
       "      <th>word_tokens</th>\n",
       "      <th>word_lemma</th>\n",
       "      <th>word_pos</th>\n",
       "    </tr>\n",
       "  </thead>\n",
       "  <tbody>\n",
       "    <tr>\n",
       "      <th>0</th>\n",
       "      <td>once upon a time there was a sweet little girl</td>\n",
       "      <td>[once, upon, a, time, there, was, a, sweet, li...</td>\n",
       "      <td>[once, upon, a, time, there, be, a, sweet, lit...</td>\n",
       "      <td>[ADV, SCONJ, DET, NOUN, PRON, VERB, DET, ADJ, ...</td>\n",
       "    </tr>\n",
       "    <tr>\n",
       "      <th>1</th>\n",
       "      <td>everyone who saw her liked her but most of all...</td>\n",
       "      <td>[everyone, who, saw, her, liked, her, but, mos...</td>\n",
       "      <td>[everyone, who, see, she, like, she, but, most...</td>\n",
       "      <td>[PRON, PRON, VERB, PRON, VERB, PRON, CCONJ, AD...</td>\n",
       "    </tr>\n",
       "    <tr>\n",
       "      <th>2</th>\n",
       "      <td>once she gave her a little cap made of red velvet</td>\n",
       "      <td>[once, she, gave, her, a, little, cap, made, o...</td>\n",
       "      <td>[once, she, give, she, a, little, cap, make, o...</td>\n",
       "      <td>[SCONJ, PRON, VERB, PRON, DET, ADJ, NOUN, VERB...</td>\n",
       "    </tr>\n",
       "    <tr>\n",
       "      <th>3</th>\n",
       "      <td>because it suited her so well and she wanted t...</td>\n",
       "      <td>[because, it, suited, her, so, well, and, she,...</td>\n",
       "      <td>[because, it, suit, she, so, well, and, she, w...</td>\n",
       "      <td>[SCONJ, PRON, VERB, PRON, ADV, ADV, CCONJ, PRO...</td>\n",
       "    </tr>\n",
       "    <tr>\n",
       "      <th>4</th>\n",
       "      <td>here is a piece of cake and a bottle of wine</td>\n",
       "      <td>[here, is, a, piece, of, cake, and, a, bottle,...</td>\n",
       "      <td>[here, be, a, piece, of, cake, and, a, bottle,...</td>\n",
       "      <td>[ADV, AUX, DET, NOUN, ADP, NOUN, CCONJ, DET, N...</td>\n",
       "    </tr>\n",
       "    <tr>\n",
       "      <th>...</th>\n",
       "      <td>...</td>\n",
       "      <td>...</td>\n",
       "      <td>...</td>\n",
       "      <td>...</td>\n",
       "    </tr>\n",
       "    <tr>\n",
       "      <th>62</th>\n",
       "      <td>little red cap carried water until the large l...</td>\n",
       "      <td>[little, red, cap, carried, water, until, the,...</td>\n",
       "      <td>[little, red, cap, carry, water, until, the, l...</td>\n",
       "      <td>[ADJ, ADJ, NOUN, VERB, NOUN, SCONJ, DET, ADJ, ...</td>\n",
       "    </tr>\n",
       "    <tr>\n",
       "      <th>63</th>\n",
       "      <td>the smell of sausage arose into the wolf's nose</td>\n",
       "      <td>[the, smell, of, sausage, arose, into, the, wo...</td>\n",
       "      <td>[the, smell, of, sausage, arise, into, the, wo...</td>\n",
       "      <td>[DET, NOUN, ADP, NOUN, VERB, ADP, DET, NOUN, P...</td>\n",
       "    </tr>\n",
       "    <tr>\n",
       "      <th>64</th>\n",
       "      <td>he sniffed and looked down stretching his neck...</td>\n",
       "      <td>[he, sniffed, and, looked, down, stretching, h...</td>\n",
       "      <td>[he, sniff, and, look, down, stretch, his, nec...</td>\n",
       "      <td>[PRON, VERB, CCONJ, VERB, ADP, VERB, PRON, NOU...</td>\n",
       "    </tr>\n",
       "    <tr>\n",
       "      <th>65</th>\n",
       "      <td>he slid off the roof fell into the trough and ...</td>\n",
       "      <td>[he, slid, off, the, roof, fell, into, the, tr...</td>\n",
       "      <td>[he, slide, off, the, roof, fall, into, the, t...</td>\n",
       "      <td>[PRON, VERB, ADP, DET, NOUN, VERB, ADP, DET, N...</td>\n",
       "    </tr>\n",
       "    <tr>\n",
       "      <th>66</th>\n",
       "      <td>and little red cap returned home happily and s...</td>\n",
       "      <td>[and, little, red, cap, returned, home, happil...</td>\n",
       "      <td>[and, little, red, cap, return, home, happily,...</td>\n",
       "      <td>[CCONJ, ADJ, ADJ, NOUN, VERB, ADV, ADV, CCONJ,...</td>\n",
       "    </tr>\n",
       "  </tbody>\n",
       "</table>\n",
       "<p>67 rows × 4 columns</p>\n",
       "</div>"
      ],
      "text/plain": [
       "                                     origin_sentences  \\\n",
       "0      once upon a time there was a sweet little girl   \n",
       "1   everyone who saw her liked her but most of all...   \n",
       "2   once she gave her a little cap made of red velvet   \n",
       "3   because it suited her so well and she wanted t...   \n",
       "4        here is a piece of cake and a bottle of wine   \n",
       "..                                                ...   \n",
       "62  little red cap carried water until the large l...   \n",
       "63    the smell of sausage arose into the wolf's nose   \n",
       "64  he sniffed and looked down stretching his neck...   \n",
       "65  he slid off the roof fell into the trough and ...   \n",
       "66  and little red cap returned home happily and s...   \n",
       "\n",
       "                                          word_tokens  \\\n",
       "0   [once, upon, a, time, there, was, a, sweet, li...   \n",
       "1   [everyone, who, saw, her, liked, her, but, mos...   \n",
       "2   [once, she, gave, her, a, little, cap, made, o...   \n",
       "3   [because, it, suited, her, so, well, and, she,...   \n",
       "4   [here, is, a, piece, of, cake, and, a, bottle,...   \n",
       "..                                                ...   \n",
       "62  [little, red, cap, carried, water, until, the,...   \n",
       "63  [the, smell, of, sausage, arose, into, the, wo...   \n",
       "64  [he, sniffed, and, looked, down, stretching, h...   \n",
       "65  [he, slid, off, the, roof, fell, into, the, tr...   \n",
       "66  [and, little, red, cap, returned, home, happil...   \n",
       "\n",
       "                                           word_lemma  \\\n",
       "0   [once, upon, a, time, there, be, a, sweet, lit...   \n",
       "1   [everyone, who, see, she, like, she, but, most...   \n",
       "2   [once, she, give, she, a, little, cap, make, o...   \n",
       "3   [because, it, suit, she, so, well, and, she, w...   \n",
       "4   [here, be, a, piece, of, cake, and, a, bottle,...   \n",
       "..                                                ...   \n",
       "62  [little, red, cap, carry, water, until, the, l...   \n",
       "63  [the, smell, of, sausage, arise, into, the, wo...   \n",
       "64  [he, sniff, and, look, down, stretch, his, nec...   \n",
       "65  [he, slide, off, the, roof, fall, into, the, t...   \n",
       "66  [and, little, red, cap, return, home, happily,...   \n",
       "\n",
       "                                             word_pos  \n",
       "0   [ADV, SCONJ, DET, NOUN, PRON, VERB, DET, ADJ, ...  \n",
       "1   [PRON, PRON, VERB, PRON, VERB, PRON, CCONJ, AD...  \n",
       "2   [SCONJ, PRON, VERB, PRON, DET, ADJ, NOUN, VERB...  \n",
       "3   [SCONJ, PRON, VERB, PRON, ADV, ADV, CCONJ, PRO...  \n",
       "4   [ADV, AUX, DET, NOUN, ADP, NOUN, CCONJ, DET, N...  \n",
       "..                                                ...  \n",
       "62  [ADJ, ADJ, NOUN, VERB, NOUN, SCONJ, DET, ADJ, ...  \n",
       "63  [DET, NOUN, ADP, NOUN, VERB, ADP, DET, NOUN, P...  \n",
       "64  [PRON, VERB, CCONJ, VERB, ADP, VERB, PRON, NOU...  \n",
       "65  [PRON, VERB, ADP, DET, NOUN, VERB, ADP, DET, N...  \n",
       "66  [CCONJ, ADJ, ADJ, NOUN, VERB, ADV, ADV, CCONJ,...  \n",
       "\n",
       "[67 rows x 4 columns]"
      ]
     },
     "execution_count": 107,
     "metadata": {},
     "output_type": "execute_result"
    }
   ],
   "source": [
    "df"
   ]
  },
  {
   "cell_type": "code",
   "execution_count": 161,
   "metadata": {},
   "outputs": [
    {
     "name": "stdout",
     "output_type": "stream",
     "text": [
      "['everyone', 'who', 'saw', 'her', 'liked', 'her', 'but', 'most', 'of', 'all', 'her', 'grandmother', 'who', 'did', 'not', 'know', 'what', 'to', 'give', 'the', 'child', 'next']\n",
      "[True, False, False]\n"
     ]
    }
   ],
   "source": []
  },
  {
   "cell_type": "code",
   "execution_count": 187,
   "metadata": {},
   "outputs": [
    {
     "data": {
      "text/html": [
       "<div>\n",
       "<style scoped>\n",
       "    .dataframe tbody tr th:only-of-type {\n",
       "        vertical-align: middle;\n",
       "    }\n",
       "\n",
       "    .dataframe tbody tr th {\n",
       "        vertical-align: top;\n",
       "    }\n",
       "\n",
       "    .dataframe thead th {\n",
       "        text-align: right;\n",
       "    }\n",
       "</style>\n",
       "<table border=\"1\" class=\"dataframe\">\n",
       "  <thead>\n",
       "    <tr style=\"text-align: right;\">\n",
       "      <th></th>\n",
       "      <th>origin_sentences</th>\n",
       "      <th>word_tokens</th>\n",
       "      <th>word_lemma</th>\n",
       "      <th>word_pos</th>\n",
       "      <th>is_article</th>\n",
       "    </tr>\n",
       "  </thead>\n",
       "  <tbody>\n",
       "    <tr>\n",
       "      <th>0</th>\n",
       "      <td>once upon a time there was a sweet little girl</td>\n",
       "      <td>[once, upon, a, time, there, was, a, sweet, li...</td>\n",
       "      <td>[once, upon, a, time, there, be, a, sweet, lit...</td>\n",
       "      <td>[ADV, SCONJ, DET, NOUN, PRON, VERB, DET, ADJ, ...</td>\n",
       "      <td>True</td>\n",
       "    </tr>\n",
       "    <tr>\n",
       "      <th>1</th>\n",
       "      <td>everyone who saw her liked her but most of all...</td>\n",
       "      <td>[everyone, who, saw, her, liked, her, but, mos...</td>\n",
       "      <td>[everyone, who, see, she, like, she, but, most...</td>\n",
       "      <td>[PRON, PRON, VERB, PRON, VERB, PRON, CCONJ, AD...</td>\n",
       "      <td>True</td>\n",
       "    </tr>\n",
       "    <tr>\n",
       "      <th>2</th>\n",
       "      <td>once she gave her a little cap made of red velvet</td>\n",
       "      <td>[once, she, gave, her, a, little, cap, made, o...</td>\n",
       "      <td>[once, she, give, she, a, little, cap, make, o...</td>\n",
       "      <td>[SCONJ, PRON, VERB, PRON, DET, ADJ, NOUN, VERB...</td>\n",
       "      <td>True</td>\n",
       "    </tr>\n",
       "    <tr>\n",
       "      <th>3</th>\n",
       "      <td>because it suited her so well and she wanted t...</td>\n",
       "      <td>[because, it, suited, her, so, well, and, she,...</td>\n",
       "      <td>[because, it, suit, she, so, well, and, she, w...</td>\n",
       "      <td>[SCONJ, PRON, VERB, PRON, ADV, ADV, CCONJ, PRO...</td>\n",
       "      <td>True</td>\n",
       "    </tr>\n",
       "    <tr>\n",
       "      <th>4</th>\n",
       "      <td>here is a piece of cake and a bottle of wine</td>\n",
       "      <td>[here, is, a, piece, of, cake, and, a, bottle,...</td>\n",
       "      <td>[here, be, a, piece, of, cake, and, a, bottle,...</td>\n",
       "      <td>[ADV, AUX, DET, NOUN, ADP, NOUN, CCONJ, DET, N...</td>\n",
       "      <td>True</td>\n",
       "    </tr>\n",
       "    <tr>\n",
       "      <th>...</th>\n",
       "      <td>...</td>\n",
       "      <td>...</td>\n",
       "      <td>...</td>\n",
       "      <td>...</td>\n",
       "      <td>...</td>\n",
       "    </tr>\n",
       "    <tr>\n",
       "      <th>62</th>\n",
       "      <td>little red cap carried water until the large l...</td>\n",
       "      <td>[little, red, cap, carried, water, until, the,...</td>\n",
       "      <td>[little, red, cap, carry, water, until, the, l...</td>\n",
       "      <td>[ADJ, ADJ, NOUN, VERB, NOUN, SCONJ, DET, ADJ, ...</td>\n",
       "      <td>True</td>\n",
       "    </tr>\n",
       "    <tr>\n",
       "      <th>63</th>\n",
       "      <td>the smell of sausage arose into the wolf's nose</td>\n",
       "      <td>[the, smell, of, sausage, arose, into, the, wo...</td>\n",
       "      <td>[the, smell, of, sausage, arise, into, the, wo...</td>\n",
       "      <td>[DET, NOUN, ADP, NOUN, VERB, ADP, DET, NOUN, P...</td>\n",
       "      <td>True</td>\n",
       "    </tr>\n",
       "    <tr>\n",
       "      <th>64</th>\n",
       "      <td>he sniffed and looked down stretching his neck...</td>\n",
       "      <td>[he, sniffed, and, looked, down, stretching, h...</td>\n",
       "      <td>[he, sniff, and, look, down, stretch, his, nec...</td>\n",
       "      <td>[PRON, VERB, CCONJ, VERB, ADP, VERB, PRON, NOU...</td>\n",
       "      <td>False</td>\n",
       "    </tr>\n",
       "    <tr>\n",
       "      <th>65</th>\n",
       "      <td>he slid off the roof fell into the trough and ...</td>\n",
       "      <td>[he, slid, off, the, roof, fell, into, the, tr...</td>\n",
       "      <td>[he, slide, off, the, roof, fall, into, the, t...</td>\n",
       "      <td>[PRON, VERB, ADP, DET, NOUN, VERB, ADP, DET, N...</td>\n",
       "      <td>True</td>\n",
       "    </tr>\n",
       "    <tr>\n",
       "      <th>66</th>\n",
       "      <td>and little red cap returned home happily and s...</td>\n",
       "      <td>[and, little, red, cap, returned, home, happil...</td>\n",
       "      <td>[and, little, red, cap, return, home, happily,...</td>\n",
       "      <td>[CCONJ, ADJ, ADJ, NOUN, VERB, ADV, ADV, CCONJ,...</td>\n",
       "      <td>False</td>\n",
       "    </tr>\n",
       "  </tbody>\n",
       "</table>\n",
       "<p>67 rows × 5 columns</p>\n",
       "</div>"
      ],
      "text/plain": [
       "                                     origin_sentences  \\\n",
       "0      once upon a time there was a sweet little girl   \n",
       "1   everyone who saw her liked her but most of all...   \n",
       "2   once she gave her a little cap made of red velvet   \n",
       "3   because it suited her so well and she wanted t...   \n",
       "4        here is a piece of cake and a bottle of wine   \n",
       "..                                                ...   \n",
       "62  little red cap carried water until the large l...   \n",
       "63    the smell of sausage arose into the wolf's nose   \n",
       "64  he sniffed and looked down stretching his neck...   \n",
       "65  he slid off the roof fell into the trough and ...   \n",
       "66  and little red cap returned home happily and s...   \n",
       "\n",
       "                                          word_tokens  \\\n",
       "0   [once, upon, a, time, there, was, a, sweet, li...   \n",
       "1   [everyone, who, saw, her, liked, her, but, mos...   \n",
       "2   [once, she, gave, her, a, little, cap, made, o...   \n",
       "3   [because, it, suited, her, so, well, and, she,...   \n",
       "4   [here, is, a, piece, of, cake, and, a, bottle,...   \n",
       "..                                                ...   \n",
       "62  [little, red, cap, carried, water, until, the,...   \n",
       "63  [the, smell, of, sausage, arose, into, the, wo...   \n",
       "64  [he, sniffed, and, looked, down, stretching, h...   \n",
       "65  [he, slid, off, the, roof, fell, into, the, tr...   \n",
       "66  [and, little, red, cap, returned, home, happil...   \n",
       "\n",
       "                                           word_lemma  \\\n",
       "0   [once, upon, a, time, there, be, a, sweet, lit...   \n",
       "1   [everyone, who, see, she, like, she, but, most...   \n",
       "2   [once, she, give, she, a, little, cap, make, o...   \n",
       "3   [because, it, suit, she, so, well, and, she, w...   \n",
       "4   [here, be, a, piece, of, cake, and, a, bottle,...   \n",
       "..                                                ...   \n",
       "62  [little, red, cap, carry, water, until, the, l...   \n",
       "63  [the, smell, of, sausage, arise, into, the, wo...   \n",
       "64  [he, sniff, and, look, down, stretch, his, nec...   \n",
       "65  [he, slide, off, the, roof, fall, into, the, t...   \n",
       "66  [and, little, red, cap, return, home, happily,...   \n",
       "\n",
       "                                             word_pos  is_article  \n",
       "0   [ADV, SCONJ, DET, NOUN, PRON, VERB, DET, ADJ, ...        True  \n",
       "1   [PRON, PRON, VERB, PRON, VERB, PRON, CCONJ, AD...        True  \n",
       "2   [SCONJ, PRON, VERB, PRON, DET, ADJ, NOUN, VERB...        True  \n",
       "3   [SCONJ, PRON, VERB, PRON, ADV, ADV, CCONJ, PRO...        True  \n",
       "4   [ADV, AUX, DET, NOUN, ADP, NOUN, CCONJ, DET, N...        True  \n",
       "..                                                ...         ...  \n",
       "62  [ADJ, ADJ, NOUN, VERB, NOUN, SCONJ, DET, ADJ, ...        True  \n",
       "63  [DET, NOUN, ADP, NOUN, VERB, ADP, DET, NOUN, P...        True  \n",
       "64  [PRON, VERB, CCONJ, VERB, ADP, VERB, PRON, NOU...       False  \n",
       "65  [PRON, VERB, ADP, DET, NOUN, VERB, ADP, DET, N...        True  \n",
       "66  [CCONJ, ADJ, ADJ, NOUN, VERB, ADV, ADV, CCONJ,...       False  \n",
       "\n",
       "[67 rows x 5 columns]"
      ]
     },
     "execution_count": 187,
     "metadata": {},
     "output_type": "execute_result"
    }
   ],
   "source": [
    "# Записываем флаг на упражнения с артиклем\n",
    "df['is_article'] = df['word_tokens'].apply(lambda x: any([i in x for i in ['the', 'a', 'an']])) \n",
    "df\n",
    "\n"
   ]
  },
  {
   "cell_type": "code",
   "execution_count": 218,
   "metadata": {},
   "outputs": [
    {
     "data": {
      "text/plain": [
       "array([[1],\n",
       "       [2],\n",
       "       [5]])"
      ]
     },
     "execution_count": 218,
     "metadata": {},
     "output_type": "execute_result"
    }
   ],
   "source": [
    "s1 = pd.Series([12.539048, 5.688863, 16.247349, 9.601944, 5.551343, 5.591008, 10.093195, 11.189223, 10.067743, 1.822353])\n",
    "\n",
    "arr = [s1.min(), s1.quantile(0.25), s1.median(), s1.quantile(0.75), s1.max()]\n",
    "pd.Series(arr)\n",
    "s1.describe().T\n",
    "\n",
    "s = pd.Series(list('abdcbdhafceeabcahbcaedadaecbbbecafgh'))\n",
    "aa = s.value_counts().sort_values(ascending=False)[0:2].index\n",
    "s.where(s.isin(aa), 'Yet another value')\n",
    "\n",
    "s1 = pd.Series(range(0, 10))\n",
    "#print(pd.DataFrame(data=[[_ for _ in s1[:5]], [_ for _ in s1[5:]]])) \n",
    "\n",
    "s1 = pd.Series([5, 10, 2, 3, 9, 12, 1])\n",
    "s1 = s1.to_numpy()\n",
    "np.argwhere(s1%2==0)\n",
    "#np.argwhere(s1)\n",
    "\n"
   ]
  },
  {
   "cell_type": "code",
   "execution_count": null,
   "metadata": {},
   "outputs": [],
   "source": []
  },
  {
   "cell_type": "code",
   "execution_count": null,
   "metadata": {},
   "outputs": [],
   "source": [
    "df.head(5)"
   ]
  },
  {
   "cell_type": "code",
   "execution_count": 59,
   "metadata": {},
   "outputs": [
    {
     "data": {
      "text/plain": [
       "'examples'"
      ]
     },
     "execution_count": 59,
     "metadata": {},
     "output_type": "execute_result"
    }
   ],
   "source": [
    "import pyinflect\n",
    "nlp = spacy.load('en_core_web_sm')\n",
    "tokens = nlp('This is an example of xxtest.')\n",
    "tokens[3]._.inflect('NNS')"
   ]
  },
  {
   "cell_type": "code",
   "execution_count": null,
   "metadata": {},
   "outputs": [],
   "source": [
    "# изменение степени прилагательного с помощью pyinflect\n",
    "for token in nlp(\"I think it's a good idea and easy to use\"):\n",
    "    if word_pos=='ADJ':\n",
    "        print(token.text, token._.inflect('JJS'))        "
   ]
  },
  {
   "cell_type": "code",
   "execution_count": 60,
   "metadata": {},
   "outputs": [
    {
     "name": "stdout",
     "output_type": "stream",
     "text": [
      "ADJ\n",
      "ADJ\n",
      "ADJ\n",
      "ADJ\n",
      "ADJ\n",
      "ADJ\n",
      "ADJ\n",
      "ADJ\n",
      "ADJ\n",
      "ADJ\n",
      "ADJ\n",
      "ADJ\n",
      "ADJ\n",
      "ADJ\n",
      "ADJ\n",
      "ADJ\n",
      "ADJ\n",
      "ADJ\n",
      "ADJ\n",
      "ADJ\n",
      "ADJ\n",
      "ADJ\n",
      "ADJ\n",
      "ADJ\n",
      "ADJ\n",
      "ADJ\n",
      "ADJ\n",
      "ADJ\n",
      "ADJ\n",
      "ADJ\n",
      "ADJ\n",
      "ADJ\n",
      "ADJ\n",
      "ADJ\n",
      "ADJ\n",
      "ADJ\n",
      "ADJ\n",
      "ADJ\n",
      "ADJ\n",
      "ADJ\n",
      "ADJ\n",
      "ADJ\n",
      "ADJ\n",
      "ADJ\n"
     ]
    }
   ],
   "source": [
    "item = 'ADJ'\n",
    "for i in df.word_pos:\n",
    "   \n",
    "    if item in i:\n",
    "        print(item)"
   ]
  },
  {
   "cell_type": "code",
   "execution_count": null,
   "metadata": {},
   "outputs": [],
   "source": [
    "if 'ADJ'.isin(df.word_pos):\n",
    "    print('ok')"
   ]
  },
  {
   "cell_type": "code",
   "execution_count": null,
   "metadata": {},
   "outputs": [],
   "source": [
    "\n",
    "\n",
    "df[\"ADJ_forms\"] = df.apply(lambda x: int(x[\"ride_cost\"] * 0.95)\n",
    "                                 if x[\"rating\"] > 6 and x[\"speed_max\"] < 120\n",
    "                                 else int(x[\"ride_cost\"] * 1.05),\n",
    "                                 axis=1)"
   ]
  },
  {
   "cell_type": "code",
   "execution_count": null,
   "metadata": {},
   "outputs": [],
   "source": []
  },
  {
   "cell_type": "code",
   "execution_count": null,
   "metadata": {},
   "outputs": [],
   "source": []
  },
  {
   "cell_type": "code",
   "execution_count": null,
   "metadata": {},
   "outputs": [],
   "source": []
  },
  {
   "cell_type": "code",
   "execution_count": null,
   "metadata": {},
   "outputs": [],
   "source": []
  },
  {
   "cell_type": "code",
   "execution_count": null,
   "metadata": {},
   "outputs": [],
   "source": []
  },
  {
   "cell_type": "code",
   "execution_count": null,
   "metadata": {},
   "outputs": [],
   "source": []
  },
  {
   "cell_type": "code",
   "execution_count": null,
   "metadata": {},
   "outputs": [],
   "source": [
    "for word in df_all_words.origin_word:\n",
    "    print('lemma:', word.lemma_)"
   ]
  },
  {
   "cell_type": "code",
   "execution_count": null,
   "metadata": {},
   "outputs": [],
   "source": [
    "# Приводим слова к начальной форме (лемме)\n",
    "import spacy\n",
    "nlp = spacy.load(\"en_core_web_sm\")\n",
    "doc = nlp(df['origin_sentences'].astype('unicode').values)\n",
    "\n",
    "token = doc\n",
    "print(token.text)\n",
    "for word in doc:\n",
    "    print('lemma:', word.lemma_)\n",
    "\n"
   ]
  },
  {
   "cell_type": "code",
   "execution_count": null,
   "metadata": {},
   "outputs": [],
   "source": []
  },
  {
   "attachments": {},
   "cell_type": "markdown",
   "metadata": {},
   "source": [
    "### NLTK"
   ]
  },
  {
   "cell_type": "code",
   "execution_count": null,
   "metadata": {},
   "outputs": [],
   "source": [
    "import nltk\n",
    "from nltk.corpus import stopwords"
   ]
  },
  {
   "cell_type": "code",
   "execution_count": null,
   "metadata": {},
   "outputs": [],
   "source": [
    "stops = set(stopwords.words('english'))\n",
    "print(stops)"
   ]
  },
  {
   "cell_type": "code",
   "execution_count": null,
   "metadata": {},
   "outputs": [],
   "source": []
  },
  {
   "cell_type": "code",
   "execution_count": null,
   "metadata": {},
   "outputs": [],
   "source": [
    "# Токенизируем каждо\n",
    "\n",
    "df['bag_of_words'] = df.origin_sentences.apply(lambda x: nltk.word_tokenize(x))\n",
    "\n",
    "#result2 = df.assign(feature_1=df.apply(nltk.word_tokenize(\"a house word \")))\n",
    "\n",
    "#bag_of_words"
   ]
  },
  {
   "cell_type": "code",
   "execution_count": null,
   "metadata": {},
   "outputs": [],
   "source": [
    "df"
   ]
  },
  {
   "cell_type": "code",
   "execution_count": null,
   "metadata": {},
   "outputs": [],
   "source": [
    "df_words = pd.DataFrame({'origin_words':bag_of_words})\n",
    "df_words"
   ]
  },
  {
   "cell_type": "code",
   "execution_count": null,
   "metadata": {},
   "outputs": [],
   "source": [
    "# Этот код ищет словоформы, но только существвительные\n",
    "\n",
    "from nltk.corpus import wordnet as wn\n",
    "\n",
    "forms = set() #We'll store the derivational forms in a set to eliminate duplicates\n",
    "for happy_lemma in wn.lemmas(\"like\"): #for each \"happy\" lemma in WordNet\n",
    "    forms.add(happy_lemma.name()) #add the lemma itself\n",
    "    for related_lemma in happy_lemma.derivationally_related_forms(): #for each related lemma\n",
    "        forms.add(related_lemma.name()) #add the related lemma\n",
    "forms        "
   ]
  },
  {
   "cell_type": "code",
   "execution_count": null,
   "metadata": {},
   "outputs": [],
   "source": [
    "tokens_sens = nltk.tokenize.sent_tokenize(text, language='english')"
   ]
  },
  {
   "cell_type": "code",
   "execution_count": null,
   "metadata": {},
   "outputs": [],
   "source": [
    "pd.set_option('display.max_colwidth', None)\n",
    "df_sentences = pd.DataFrame({'sentence': tokens_sens})\n",
    "df_sentences"
   ]
  },
  {
   "cell_type": "code",
   "execution_count": null,
   "metadata": {},
   "outputs": [],
   "source": [
    "pd.set_option('display.max_colwidth', 50)"
   ]
  },
  {
   "attachments": {},
   "cell_type": "markdown",
   "metadata": {},
   "source": [
    "### Spacy"
   ]
  },
  {
   "cell_type": "code",
   "execution_count": null,
   "metadata": {},
   "outputs": [],
   "source": [
    "\n",
    "\n",
    "\n",
    "\n",
    "\n"
   ]
  },
  {
   "cell_type": "code",
   "execution_count": null,
   "metadata": {},
   "outputs": [],
   "source": [
    "# @Language.component(\"segm\")\n",
    "# def set_custom_segmentation(doc):\n",
    "#     for token in doc[:-1]:\n",
    "#         if token.text == '{S}':\n",
    "#             doc[token.i+1].is_sent_start = True\n",
    "#         else:\n",
    "#             doc[token.i+1].is_sent_start = False\n",
    "#     return doc"
   ]
  },
  {
   "cell_type": "code",
   "execution_count": null,
   "metadata": {},
   "outputs": [],
   "source": []
  },
  {
   "cell_type": "code",
   "execution_count": null,
   "metadata": {},
   "outputs": [],
   "source": [
    "import spacy\n",
    "#from spacy.lang.ru import Russian\n",
    "#from spacy import displacy\n",
    "#from spacy.lang.en.examples import sentences \n",
    "\n",
    "#import en_core_web_sm\n",
    "#nlp = en_core_web_sm.load()\n",
    "\n",
    "nlp = spacy.load(\"en_core_web_sm\")\n",
    "doc = nlp('''\n",
    "Once upon a time there was a sweet little girl. Everyone who saw her liked her, but most of all her grandmother, who did not know what to give the child next. Once she gave her a little cap made of red velvet. Because it suited her so well, and she wanted to wear it all the time, she came to be known as Little Red Cap.\n",
    "One day her mother said to her, \"Come Little Red Cap. Here is a piece of cake and a bottle of wine. Take them to your grandmother. She is sick and weak, and they will do her well. Mind your manners and give her my greetings. Behave yourself on the way, and do not leave the path, or you might fall down and break the glass, and then there will be nothing for your sick grandmother.\"\n",
    "\n",
    "Little Red Cap promised to obey her mother. The grandmother lived out in the woods, a half hour from the village. When Little Red Cap entered the woods a wolf came up to her. She did not know what a wicked animal he was, and was not afraid of him.\n",
    "\n",
    "\"Good day to you, Little Red Cap.\"\n",
    "\n",
    "\"Thank you, wolf.\"\n",
    "\n",
    "\"Where are you going so early, Little Red Cap?\"\n",
    "\n",
    "\"To grandmother's.\"\n",
    "\n",
    "\"And what are you carrying under your apron?\"\n",
    "''')\n",
    "#open('Little_Red_Cap_ Jacob_and_Wilhelm_Grimm.txt', encoding ='utf-8')\n",
    "i=0\n",
    "for sent in doc.sents:\n",
    "    i+=1\n",
    "    print('i=', str(i)+sent.text)"
   ]
  },
  {
   "cell_type": "code",
   "execution_count": null,
   "metadata": {},
   "outputs": [],
   "source": []
  },
  {
   "cell_type": "code",
   "execution_count": null,
   "metadata": {},
   "outputs": [],
   "source": [
    "for token in doc:\n",
    "    print(token.text, token.lemma_, token.pos_, token.tag_, token.dep_,\n",
    "            token.shape_, token.is_alpha, token.is_stop)"
   ]
  },
  {
   "cell_type": "code",
   "execution_count": null,
   "metadata": {},
   "outputs": [],
   "source": [
    "displacy.render(doc, style='dep', jupyter=True)"
   ]
  },
  {
   "cell_type": "code",
   "execution_count": null,
   "metadata": {},
   "outputs": [],
   "source": []
  },
  {
   "cell_type": "code",
   "execution_count": null,
   "metadata": {},
   "outputs": [],
   "source": [
    "token = doc\n",
    "print(token.text)\n",
    "for word in doc:\n",
    "    print('lemma:', word.lemma_)"
   ]
  },
  {
   "cell_type": "code",
   "execution_count": null,
   "metadata": {},
   "outputs": [],
   "source": [
    "nlp = Russian()\n",
    "doc = nlp(\"Съешь ещё этих мягких французских булок, да выпей чаю.\")"
   ]
  },
  {
   "cell_type": "code",
   "execution_count": null,
   "metadata": {},
   "outputs": [],
   "source": [
    "token = doc[0]\n",
    "print(token.text)\n",
    "\n",
    "span = doc[3:6]\n",
    "print(span.text)"
   ]
  },
  {
   "cell_type": "code",
   "execution_count": null,
   "metadata": {},
   "outputs": [],
   "source": [
    "print(\"is_alpha:    \", [token.is_alpha for token in doc])\n",
    "print(\"is_punct:    \", [token.is_punct for token in doc])\n",
    "print(\"like_num:    \", [token.like_num for token in doc])"
   ]
  },
  {
   "cell_type": "code",
   "execution_count": null,
   "metadata": {},
   "outputs": [],
   "source": []
  },
  {
   "attachments": {},
   "cell_type": "markdown",
   "metadata": {},
   "source": [
    "### Gensim"
   ]
  },
  {
   "cell_type": "code",
   "execution_count": null,
   "metadata": {},
   "outputs": [],
   "source": [
    "import gensim\n",
    "import os\n",
    "from gensim.utils import simple_preprocess\n",
    "  \n",
    "#  прочитать текстовый файл как объект\n",
    "doc = open('Little_Red_Cap_ Jacob_and_Wilhelm_Grimm.txt', encoding ='utf-8')\n",
    "  \n",
    "# предварительная обработка файла для получения списка токенов\n",
    "tokenized = []\n",
    "for sentence in doc.read().split('.'):\n",
    "    # функция simple_preprocess возвращает список слов каждого предложения\n",
    "    tokenized.append(simple_preprocess(sentence, deacc = True))\n",
    "  \n",
    "for i in tokenized:\n",
    "    print(i)\n",
    "doc.close()"
   ]
  },
  {
   "attachments": {},
   "cell_type": "markdown",
   "metadata": {},
   "source": [
    "### Pyinflect чтобы изменять слова (времена глагола, степени прилагательных, число множ/ед)"
   ]
  },
  {
   "cell_type": "code",
   "execution_count": null,
   "metadata": {},
   "outputs": [],
   "source": [
    "import pyinflect\n",
    "nlp = spacy.load('en_core_web_sm')\n",
    "tokens = nlp('This is an example of xxtest.')\n",
    "tokens[3]._.inflect('NNS')"
   ]
  },
  {
   "cell_type": "code",
   "execution_count": null,
   "metadata": {},
   "outputs": [],
   "source": [
    "for i in range(len(tokens)):\n",
    "    # тут условие if проверка на часть речи\n",
    "    for j in range(0, 3):\n",
    "        print(tokens[i]._.inflect('VBD', form_num=j))"
   ]
  },
  {
   "cell_type": "code",
   "execution_count": null,
   "metadata": {},
   "outputs": [],
   "source": [
    "tokens[1]._.inflect('VBD', form_num=1)"
   ]
  },
  {
   "cell_type": "code",
   "execution_count": null,
   "metadata": {},
   "outputs": [],
   "source": [
    "tokens[5]._.inflect('VBG', inflect_oov=True)"
   ]
  },
  {
   "cell_type": "code",
   "execution_count": null,
   "metadata": {},
   "outputs": [],
   "source": []
  },
  {
   "cell_type": "code",
   "execution_count": null,
   "metadata": {},
   "outputs": [],
   "source": []
  },
  {
   "attachments": {},
   "cell_type": "markdown",
   "metadata": {},
   "source": [
    "### Bag of word (BOW)"
   ]
  },
  {
   "cell_type": "code",
   "execution_count": null,
   "metadata": {},
   "outputs": [],
   "source": [
    "df_sentences"
   ]
  },
  {
   "cell_type": "code",
   "execution_count": null,
   "metadata": {},
   "outputs": [],
   "source": [
    "allsentences = [\"Joe waited for the train train\", \"The train was late\", \"Mary and Samantha took the bus\"]"
   ]
  },
  {
   "cell_type": "code",
   "execution_count": null,
   "metadata": {},
   "outputs": [],
   "source": [
    "from sklearn.feature_extraction.text import CountVectorizer\n",
    "vectorizer = CountVectorizer()\n",
    "X = vectorizer.fit_transform(allsentences)\n",
    "print(X.toarray())"
   ]
  },
  {
   "cell_type": "code",
   "execution_count": null,
   "metadata": {},
   "outputs": [],
   "source": [
    "df_sentences.sentence.values.tolist()"
   ]
  },
  {
   "cell_type": "code",
   "execution_count": null,
   "metadata": {},
   "outputs": [],
   "source": [
    "X"
   ]
  }
 ],
 "metadata": {
  "kernelspec": {
   "display_name": "Python 3 (ipykernel)",
   "language": "python",
   "name": "python3"
  },
  "language_info": {
   "codemirror_mode": {
    "name": "ipython",
    "version": 3
   },
   "file_extension": ".py",
   "mimetype": "text/x-python",
   "name": "python",
   "nbconvert_exporter": "python",
   "pygments_lexer": "ipython3",
   "version": "3.10.9"
  },
  "orig_nbformat": 4
 },
 "nbformat": 4,
 "nbformat_minor": 2
}

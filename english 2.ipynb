{
 "cells": [
  {
   "attachments": {},
   "cell_type": "markdown",
   "metadata": {},
   "source": [
    "### План\n",
    "\n",
    "1. Разбиваем весь текст на токены-слова\n",
    "2. Удаляем стоп-слова. Местоимения и артикли в исключения\n",
    "2. Приводим все к нижнему регистру\n",
    "3. Уникализируем и подсчитываем количество каждого слова\n",
    "4. Создаем df\n",
    "4. К каждому слову добавляем столько раз предложение, сколько это слово встречается.\n",
    "5. Определяем часть речи и добавляем в df\n",
    "6. Если слово - глагол, что находим его 3 формы и списком добавляем в df. Проделываем эти операции со всеми частями речи по условию if\n",
    "Если артикль, то добавляем этим атриклям в df список всех артиклей (для выбора)\n",
    "\n",
    "\n",
    "### Виды упражнений\n",
    "1. Определить правильный артикль\n",
    "2. Определяем пропущенное слово\n",
    "3. Определить правильную форму глагола. Ищем в предложении все глаголы и предлагаем 3 формы. Не, не пойдет. Времен больше намного\n",
    "4. Расставить слова в правильном порядке. Перемешиваем все и даем выбрать\n",
    "\n",
    "\n",
    "\n"
   ]
  },
  {
   "cell_type": "code",
   "execution_count": 2,
   "metadata": {},
   "outputs": [
    {
     "name": "stderr",
     "output_type": "stream",
     "text": [
      "2023-06-26 10:37:51.129070: I tensorflow/core/platform/cpu_feature_guard.cc:182] This TensorFlow binary is optimized to use available CPU instructions in performance-critical operations.\n",
      "To enable the following instructions: AVX2 FMA, in other operations, rebuild TensorFlow with the appropriate compiler flags.\n"
     ]
    }
   ],
   "source": [
    "import pandas as pd\n",
    "import nltk\n",
    "import re\n",
    "import transformers\n",
    "#from tensorflow.python.keras.models import transformers\n",
    "import numpy as np\n",
    "import matplotlib.pyplot as plt\n",
    "import warnings\n",
    "import matplotlib.pyplot as plt\n",
    "\n",
    "from sklearn.feature_extraction.text import TfidfVectorizer, CountVectorizer, TfidfTransformer\n",
    "from sklearn.pipeline import Pipeline\n",
    "from sklearn.metrics import f1_score, roc_curve\n",
    "from sklearn.linear_model import LogisticRegression, SGDClassifier\n",
    "from sklearn.ensemble import RandomForestClassifier\n",
    "from sklearn.model_selection import train_test_split, cross_val_score, GridSearchCV, RandomizedSearchCV\n",
    "from catboost import CatBoostClassifier\n",
    "from nltk.corpus import stopwords as nltk_stopwords\n",
    "from pymystem3 import Mystem\n",
    "from tqdm.notebook import tqdm\n",
    "from wordcloud import WordCloud\n",
    "warnings.filterwarnings('ignore')"
   ]
  },
  {
   "cell_type": "code",
   "execution_count": 67,
   "metadata": {},
   "outputs": [],
   "source": [
    "# Определяем константой типы заданий\n",
    "\n",
    "TASKS = ['Выберите слово', 'Заполните пропуск']"
   ]
  },
  {
   "cell_type": "code",
   "execution_count": 68,
   "metadata": {},
   "outputs": [
    {
     "data": {
      "text/html": [
       "<div>\n",
       "<style scoped>\n",
       "    .dataframe tbody tr th:only-of-type {\n",
       "        vertical-align: middle;\n",
       "    }\n",
       "\n",
       "    .dataframe tbody tr th {\n",
       "        vertical-align: top;\n",
       "    }\n",
       "\n",
       "    .dataframe thead th {\n",
       "        text-align: right;\n",
       "    }\n",
       "</style>\n",
       "<table border=\"1\" class=\"dataframe\">\n",
       "  <thead>\n",
       "    <tr style=\"text-align: right;\">\n",
       "      <th></th>\n",
       "      <th>origin_sentences</th>\n",
       "    </tr>\n",
       "  </thead>\n",
       "  <tbody>\n",
       "    <tr>\n",
       "      <th>0</th>\n",
       "      <td>Little Red Cap</td>\n",
       "    </tr>\n",
       "    <tr>\n",
       "      <th>1</th>\n",
       "      <td>Jacob and Wilhelm Grimm</td>\n",
       "    </tr>\n",
       "    <tr>\n",
       "      <th>2</th>\n",
       "      <td>Once upon a time there was a sweet little girl...</td>\n",
       "    </tr>\n",
       "    <tr>\n",
       "      <th>3</th>\n",
       "      <td>One day her mother said to her, \"Come Little R...</td>\n",
       "    </tr>\n",
       "    <tr>\n",
       "      <th>4</th>\n",
       "      <td>Little Red Cap promised to obey her mother. Th...</td>\n",
       "    </tr>\n",
       "  </tbody>\n",
       "</table>\n",
       "</div>"
      ],
      "text/plain": [
       "                                    origin_sentences\n",
       "0                                     Little Red Cap\n",
       "1                            Jacob and Wilhelm Grimm\n",
       "2  Once upon a time there was a sweet little girl...\n",
       "3  One day her mother said to her, \"Come Little R...\n",
       "4  Little Red Cap promised to obey her mother. Th..."
      ]
     },
     "execution_count": 68,
     "metadata": {},
     "output_type": "execute_result"
    }
   ],
   "source": [
    "# Загружаем каждое предложение в отдельную строку df. Ставим сепоратор таб, иначе запятая выдает ошибку\n",
    "df = pd.read_csv('Little_Red_Cap_ Jacob_and_Wilhelm_Grimm.txt', lineterminator = '\\n', header=None, sep=\"\\t\", names=['origin_sentences'])\n",
    "df.head(5)"
   ]
  },
  {
   "cell_type": "code",
   "execution_count": 39,
   "metadata": {},
   "outputs": [],
   "source": [
    "# with open('Little_Red_Cap_ Jacob_and_Wilhelm_Grimm.txt') as f:\n",
    "#     lines = f.read()"
   ]
  },
  {
   "cell_type": "code",
   "execution_count": 65,
   "metadata": {},
   "outputs": [],
   "source": [
    "\n",
    "# #Создаем датаврейм с каждым словом\n",
    "# df_all_words = pd.DataFrame({'origin_word':nltk.word_tokenize(lines)})\n",
    "# df_all_words.head(5)\n"
   ]
  },
  {
   "cell_type": "code",
   "execution_count": 85,
   "metadata": {},
   "outputs": [
    {
     "name": "stdout",
     "output_type": "stream",
     "text": [
      "[('$9.4 million', 'MONEY'), ('the prior year', 'DATE'), ('$2.7 million', 'MONEY')]\n",
      "[('twelve billion dollars', 'MONEY'), ('1b', 'MONEY')]\n"
     ]
    }
   ],
   "source": [
    "import spacy\n",
    "\n",
    "texts = [\n",
    "    \"Net income was $9.4 million compared to the prior year of $2.7 million.\",\n",
    "    \"Revenue exceeded twelve billion dollars, with a loss of $1b.\",\n",
    "]\n",
    "\n",
    "nlp = spacy.load(\"en_core_web_sm\")\n",
    "for doc in nlp.pipe(texts, disable=[\"tok2vec\", \"tagger\", \"parser\", \"attribute_ruler\", \"lemmatizer\"]):\n",
    "    # Do something with the doc here\n",
    "    print([(ent.text, ent.label_) for ent in doc.ents])"
   ]
  },
  {
   "cell_type": "code",
   "execution_count": 69,
   "metadata": {},
   "outputs": [],
   "source": [
    "tokens = []\n",
    "lemma = []\n",
    "pos = []\n",
    "\n",
    "for doc in nlp.pipe(df['origin_sentences'].astype('unicode').values, batch_size=50,\n",
    "                        ):\n",
    "    if doc.is_parsed:\n",
    "        tokens.append([n.text for n in doc])\n",
    "        lemma.append([n.lemma_ for n in doc])\n",
    "        pos.append([n.pos_ for n in doc])\n",
    "        \n",
    "    else:\n",
    "        # We want to make sure that the lists of parsed results have the\n",
    "        # same number of entries of the original Dataframe, so add some blanks in case the parse fails\n",
    "        tokens.append(None)\n",
    "        lemma.append(None)\n",
    "        pos.append(None)\n",
    "\n",
    "df['word_tokens'] = tokens\n",
    "df['word_lemma'] = lemma\n",
    "df['word_pos'] = pos"
   ]
  },
  {
   "cell_type": "code",
   "execution_count": 70,
   "metadata": {},
   "outputs": [
    {
     "data": {
      "text/html": [
       "<div>\n",
       "<style scoped>\n",
       "    .dataframe tbody tr th:only-of-type {\n",
       "        vertical-align: middle;\n",
       "    }\n",
       "\n",
       "    .dataframe tbody tr th {\n",
       "        vertical-align: top;\n",
       "    }\n",
       "\n",
       "    .dataframe thead th {\n",
       "        text-align: right;\n",
       "    }\n",
       "</style>\n",
       "<table border=\"1\" class=\"dataframe\">\n",
       "  <thead>\n",
       "    <tr style=\"text-align: right;\">\n",
       "      <th></th>\n",
       "      <th>origin_sentences</th>\n",
       "      <th>word_tokens</th>\n",
       "      <th>word_lemma</th>\n",
       "      <th>word_pos</th>\n",
       "    </tr>\n",
       "  </thead>\n",
       "  <tbody>\n",
       "    <tr>\n",
       "      <th>0</th>\n",
       "      <td>Little Red Cap</td>\n",
       "      <td>[Little, Red, Cap]</td>\n",
       "      <td>[little, Red, Cap]</td>\n",
       "      <td>[ADJ, PROPN, PROPN]</td>\n",
       "    </tr>\n",
       "    <tr>\n",
       "      <th>1</th>\n",
       "      <td>Jacob and Wilhelm Grimm</td>\n",
       "      <td>[Jacob, and, Wilhelm, Grimm]</td>\n",
       "      <td>[Jacob, and, Wilhelm, Grimm]</td>\n",
       "      <td>[PROPN, CCONJ, PROPN, PROPN]</td>\n",
       "    </tr>\n",
       "    <tr>\n",
       "      <th>2</th>\n",
       "      <td>Once upon a time there was a sweet little girl...</td>\n",
       "      <td>[Once, upon, a, time, there, was, a, sweet, li...</td>\n",
       "      <td>[once, upon, a, time, there, be, a, sweet, lit...</td>\n",
       "      <td>[ADV, SCONJ, DET, NOUN, PRON, VERB, DET, ADJ, ...</td>\n",
       "    </tr>\n",
       "    <tr>\n",
       "      <th>3</th>\n",
       "      <td>One day her mother said to her, \"Come Little R...</td>\n",
       "      <td>[One, day, her, mother, said, to, her, ,, \", C...</td>\n",
       "      <td>[one, day, her, mother, say, to, she, ,, \", co...</td>\n",
       "      <td>[NUM, NOUN, PRON, NOUN, VERB, ADP, PRON, PUNCT...</td>\n",
       "    </tr>\n",
       "    <tr>\n",
       "      <th>4</th>\n",
       "      <td>Little Red Cap promised to obey her mother. Th...</td>\n",
       "      <td>[Little, Red, Cap, promised, to, obey, her, mo...</td>\n",
       "      <td>[little, Red, Cap, promise, to, obey, her, mot...</td>\n",
       "      <td>[ADJ, PROPN, PROPN, VERB, PART, VERB, PRON, NO...</td>\n",
       "    </tr>\n",
       "  </tbody>\n",
       "</table>\n",
       "</div>"
      ],
      "text/plain": [
       "                                    origin_sentences  \\\n",
       "0                                     Little Red Cap   \n",
       "1                            Jacob and Wilhelm Grimm   \n",
       "2  Once upon a time there was a sweet little girl...   \n",
       "3  One day her mother said to her, \"Come Little R...   \n",
       "4  Little Red Cap promised to obey her mother. Th...   \n",
       "\n",
       "                                         word_tokens  \\\n",
       "0                                 [Little, Red, Cap]   \n",
       "1                       [Jacob, and, Wilhelm, Grimm]   \n",
       "2  [Once, upon, a, time, there, was, a, sweet, li...   \n",
       "3  [One, day, her, mother, said, to, her, ,, \", C...   \n",
       "4  [Little, Red, Cap, promised, to, obey, her, mo...   \n",
       "\n",
       "                                          word_lemma  \\\n",
       "0                                 [little, Red, Cap]   \n",
       "1                       [Jacob, and, Wilhelm, Grimm]   \n",
       "2  [once, upon, a, time, there, be, a, sweet, lit...   \n",
       "3  [one, day, her, mother, say, to, she, ,, \", co...   \n",
       "4  [little, Red, Cap, promise, to, obey, her, mot...   \n",
       "\n",
       "                                            word_pos  \n",
       "0                                [ADJ, PROPN, PROPN]  \n",
       "1                       [PROPN, CCONJ, PROPN, PROPN]  \n",
       "2  [ADV, SCONJ, DET, NOUN, PRON, VERB, DET, ADJ, ...  \n",
       "3  [NUM, NOUN, PRON, NOUN, VERB, ADP, PRON, PUNCT...  \n",
       "4  [ADJ, PROPN, PROPN, VERB, PART, VERB, PRON, NO...  "
      ]
     },
     "execution_count": 70,
     "metadata": {},
     "output_type": "execute_result"
    }
   ],
   "source": [
    "df.head(5)"
   ]
  },
  {
   "cell_type": "code",
   "execution_count": 72,
   "metadata": {},
   "outputs": [
    {
     "data": {
      "text/plain": [
       "'examples'"
      ]
     },
     "execution_count": 72,
     "metadata": {},
     "output_type": "execute_result"
    }
   ],
   "source": [
    "import pyinflect\n",
    "nlp = spacy.load('en_core_web_sm')\n",
    "tokens = nlp('This is an example of xxtest.')\n",
    "tokens[3]._.inflect('NNS')"
   ]
  },
  {
   "cell_type": "code",
   "execution_count": 73,
   "metadata": {},
   "outputs": [
    {
     "name": "stdout",
     "output_type": "stream",
     "text": [
      "good best\n",
      "easy easiest\n"
     ]
    }
   ],
   "source": [
    "# изменение степени прилагательного с помощью pyinflect\n",
    "for token in nlp(\"I think it's a good idea and easy to use\"):\n",
    "    if word_pos=='ADJ':\n",
    "        print(token.text, token._.inflect('JJS'))        "
   ]
  },
  {
   "cell_type": "code",
   "execution_count": 84,
   "metadata": {},
   "outputs": [
    {
     "name": "stdout",
     "output_type": "stream",
     "text": [
      "ADJ\n",
      "ADJ\n",
      "ADJ\n",
      "ADJ\n",
      "ADJ\n",
      "ADJ\n",
      "ADJ\n",
      "ADJ\n",
      "ADJ\n",
      "ADJ\n",
      "ADJ\n",
      "ADJ\n",
      "ADJ\n",
      "ADJ\n",
      "ADJ\n",
      "ADJ\n",
      "ADJ\n",
      "ADJ\n",
      "ADJ\n",
      "ADJ\n",
      "ADJ\n",
      "ADJ\n",
      "ADJ\n",
      "ADJ\n",
      "ADJ\n",
      "ADJ\n",
      "ADJ\n",
      "ADJ\n",
      "ADJ\n",
      "ADJ\n",
      "ADJ\n",
      "ADJ\n",
      "ADJ\n",
      "ADJ\n"
     ]
    }
   ],
   "source": [
    "item = 'ADJ'\n",
    "for i in df.word_pos:\n",
    "   \n",
    "    if item in i:\n",
    "        print(item)"
   ]
  },
  {
   "cell_type": "code",
   "execution_count": 76,
   "metadata": {},
   "outputs": [
    {
     "ename": "AttributeError",
     "evalue": "'str' object has no attribute 'isin'",
     "output_type": "error",
     "traceback": [
      "\u001b[0;31m---------------------------------------------------------------------------\u001b[0m",
      "\u001b[0;31mAttributeError\u001b[0m                            Traceback (most recent call last)",
      "Cell \u001b[0;32mIn[76], line 1\u001b[0m\n\u001b[0;32m----> 1\u001b[0m \u001b[39mif\u001b[39;00m \u001b[39m'\u001b[39;49m\u001b[39mADJ\u001b[39;49m\u001b[39m'\u001b[39;49m\u001b[39m.\u001b[39;49misin(df\u001b[39m.\u001b[39mword_pos):\n\u001b[1;32m      2\u001b[0m     \u001b[39mprint\u001b[39m(\u001b[39m'\u001b[39m\u001b[39mok\u001b[39m\u001b[39m'\u001b[39m)\n",
      "\u001b[0;31mAttributeError\u001b[0m: 'str' object has no attribute 'isin'"
     ]
    }
   ],
   "source": [
    "if 'ADJ'.isin(df.word_pos):\n",
    "    print('ok')"
   ]
  },
  {
   "cell_type": "code",
   "execution_count": 75,
   "metadata": {},
   "outputs": [
    {
     "ename": "ValueError",
     "evalue": "Cannot set a DataFrame with multiple columns to the single column ADJ_forms",
     "output_type": "error",
     "traceback": [
      "\u001b[0;31m---------------------------------------------------------------------------\u001b[0m",
      "\u001b[0;31mValueError\u001b[0m                                Traceback (most recent call last)",
      "Cell \u001b[0;32mIn[75], line 1\u001b[0m\n\u001b[0;32m----> 1\u001b[0m df \u001b[39m=\u001b[39m df\u001b[39m.\u001b[39;49massign(ADJ_forms\u001b[39m=\u001b[39;49mdf\u001b[39m.\u001b[39;49mapply(\u001b[39mlambda\u001b[39;49;00m x: x))\n",
      "File \u001b[0;32m~/opt/anaconda3/lib/python3.9/site-packages/pandas/core/frame.py:4889\u001b[0m, in \u001b[0;36mDataFrame.assign\u001b[0;34m(self, **kwargs)\u001b[0m\n\u001b[1;32m   4886\u001b[0m data \u001b[39m=\u001b[39m \u001b[39mself\u001b[39m\u001b[39m.\u001b[39mcopy()\n\u001b[1;32m   4888\u001b[0m \u001b[39mfor\u001b[39;00m k, v \u001b[39min\u001b[39;00m kwargs\u001b[39m.\u001b[39mitems():\n\u001b[0;32m-> 4889\u001b[0m     data[k] \u001b[39m=\u001b[39m com\u001b[39m.\u001b[39mapply_if_callable(v, data)\n\u001b[1;32m   4890\u001b[0m \u001b[39mreturn\u001b[39;00m data\n",
      "File \u001b[0;32m~/opt/anaconda3/lib/python3.9/site-packages/pandas/core/frame.py:3970\u001b[0m, in \u001b[0;36mDataFrame.__setitem__\u001b[0;34m(self, key, value)\u001b[0m\n\u001b[1;32m   3968\u001b[0m     \u001b[39mself\u001b[39m\u001b[39m.\u001b[39m_setitem_array(key, value)\n\u001b[1;32m   3969\u001b[0m \u001b[39melif\u001b[39;00m \u001b[39misinstance\u001b[39m(value, DataFrame):\n\u001b[0;32m-> 3970\u001b[0m     \u001b[39mself\u001b[39;49m\u001b[39m.\u001b[39;49m_set_item_frame_value(key, value)\n\u001b[1;32m   3971\u001b[0m \u001b[39melif\u001b[39;00m (\n\u001b[1;32m   3972\u001b[0m     is_list_like(value)\n\u001b[1;32m   3973\u001b[0m     \u001b[39mand\u001b[39;00m \u001b[39mnot\u001b[39;00m \u001b[39mself\u001b[39m\u001b[39m.\u001b[39mcolumns\u001b[39m.\u001b[39mis_unique\n\u001b[1;32m   3974\u001b[0m     \u001b[39mand\u001b[39;00m \u001b[39m1\u001b[39m \u001b[39m<\u001b[39m \u001b[39mlen\u001b[39m(\u001b[39mself\u001b[39m\u001b[39m.\u001b[39mcolumns\u001b[39m.\u001b[39mget_indexer_for([key])) \u001b[39m==\u001b[39m \u001b[39mlen\u001b[39m(value)\n\u001b[1;32m   3975\u001b[0m ):\n\u001b[1;32m   3976\u001b[0m     \u001b[39m# Column to set is duplicated\u001b[39;00m\n\u001b[1;32m   3977\u001b[0m     \u001b[39mself\u001b[39m\u001b[39m.\u001b[39m_setitem_array([key], value)\n",
      "File \u001b[0;32m~/opt/anaconda3/lib/python3.9/site-packages/pandas/core/frame.py:4125\u001b[0m, in \u001b[0;36mDataFrame._set_item_frame_value\u001b[0;34m(self, key, value)\u001b[0m\n\u001b[1;32m   4122\u001b[0m     \u001b[39mreturn\u001b[39;00m\n\u001b[1;32m   4124\u001b[0m \u001b[39mif\u001b[39;00m \u001b[39mlen\u001b[39m(value\u001b[39m.\u001b[39mcolumns) \u001b[39m!=\u001b[39m \u001b[39m1\u001b[39m:\n\u001b[0;32m-> 4125\u001b[0m     \u001b[39mraise\u001b[39;00m \u001b[39mValueError\u001b[39;00m(\n\u001b[1;32m   4126\u001b[0m         \u001b[39m\"\u001b[39m\u001b[39mCannot set a DataFrame with multiple columns to the single \u001b[39m\u001b[39m\"\u001b[39m\n\u001b[1;32m   4127\u001b[0m         \u001b[39mf\u001b[39m\u001b[39m\"\u001b[39m\u001b[39mcolumn \u001b[39m\u001b[39m{\u001b[39;00mkey\u001b[39m}\u001b[39;00m\u001b[39m\"\u001b[39m\n\u001b[1;32m   4128\u001b[0m     )\n\u001b[1;32m   4130\u001b[0m \u001b[39mself\u001b[39m[key] \u001b[39m=\u001b[39m value[value\u001b[39m.\u001b[39mcolumns[\u001b[39m0\u001b[39m]]\n",
      "\u001b[0;31mValueError\u001b[0m: Cannot set a DataFrame with multiple columns to the single column ADJ_forms"
     ]
    }
   ],
   "source": [
    "\n",
    "\n",
    "df[\"ADJ_forms\"] = df.apply(lambda x: int(x[\"ride_cost\"] * 0.95)\n",
    "                                 if x[\"rating\"] > 6 and x[\"speed_max\"] < 120\n",
    "                                 else int(x[\"ride_cost\"] * 1.05),\n",
    "                                 axis=1)"
   ]
  },
  {
   "cell_type": "code",
   "execution_count": null,
   "metadata": {},
   "outputs": [],
   "source": []
  },
  {
   "cell_type": "code",
   "execution_count": null,
   "metadata": {},
   "outputs": [],
   "source": []
  },
  {
   "cell_type": "code",
   "execution_count": null,
   "metadata": {},
   "outputs": [],
   "source": []
  },
  {
   "cell_type": "code",
   "execution_count": null,
   "metadata": {},
   "outputs": [],
   "source": []
  },
  {
   "cell_type": "code",
   "execution_count": null,
   "metadata": {},
   "outputs": [],
   "source": []
  },
  {
   "cell_type": "code",
   "execution_count": null,
   "metadata": {},
   "outputs": [],
   "source": []
  },
  {
   "cell_type": "code",
   "execution_count": 50,
   "metadata": {},
   "outputs": [
    {
     "ename": "AttributeError",
     "evalue": "'str' object has no attribute 'lemma_'",
     "output_type": "error",
     "traceback": [
      "\u001b[0;31m---------------------------------------------------------------------------\u001b[0m",
      "\u001b[0;31mAttributeError\u001b[0m                            Traceback (most recent call last)",
      "Cell \u001b[0;32mIn[50], line 2\u001b[0m\n\u001b[1;32m      1\u001b[0m \u001b[39mfor\u001b[39;00m word \u001b[39min\u001b[39;00m df_all_words\u001b[39m.\u001b[39morigin_word:\n\u001b[0;32m----> 2\u001b[0m     \u001b[39mprint\u001b[39m(\u001b[39m'\u001b[39m\u001b[39mlemma:\u001b[39m\u001b[39m'\u001b[39m, word\u001b[39m.\u001b[39;49mlemma_)\n",
      "\u001b[0;31mAttributeError\u001b[0m: 'str' object has no attribute 'lemma_'"
     ]
    }
   ],
   "source": [
    "for word in df_all_words.origin_word:\n",
    "    print('lemma:', word.lemma_)"
   ]
  },
  {
   "cell_type": "code",
   "execution_count": 60,
   "metadata": {},
   "outputs": [
    {
     "ename": "ValueError",
     "evalue": "[E1041] Expected a string, Doc, or bytes as input, but got: <class 'numpy.ndarray'>",
     "output_type": "error",
     "traceback": [
      "\u001b[0;31m---------------------------------------------------------------------------\u001b[0m",
      "\u001b[0;31mValueError\u001b[0m                                Traceback (most recent call last)",
      "Cell \u001b[0;32mIn[60], line 4\u001b[0m\n\u001b[1;32m      2\u001b[0m \u001b[39mimport\u001b[39;00m \u001b[39mspacy\u001b[39;00m\n\u001b[1;32m      3\u001b[0m nlp \u001b[39m=\u001b[39m spacy\u001b[39m.\u001b[39mload(\u001b[39m\"\u001b[39m\u001b[39men_core_web_sm\u001b[39m\u001b[39m\"\u001b[39m)\n\u001b[0;32m----> 4\u001b[0m doc \u001b[39m=\u001b[39m nlp(df[\u001b[39m'\u001b[39;49m\u001b[39morigin_sentences\u001b[39;49m\u001b[39m'\u001b[39;49m]\u001b[39m.\u001b[39;49mastype(\u001b[39m'\u001b[39;49m\u001b[39municode\u001b[39;49m\u001b[39m'\u001b[39;49m)\u001b[39m.\u001b[39;49mvalues)\n\u001b[1;32m      6\u001b[0m token \u001b[39m=\u001b[39m doc\n\u001b[1;32m      7\u001b[0m \u001b[39mprint\u001b[39m(token\u001b[39m.\u001b[39mtext)\n",
      "File \u001b[0;32m~/opt/anaconda3/lib/python3.9/site-packages/spacy/language.py:999\u001b[0m, in \u001b[0;36mLanguage.__call__\u001b[0;34m(self, text, disable, component_cfg)\u001b[0m\n\u001b[1;32m    978\u001b[0m \u001b[39mdef\u001b[39;00m \u001b[39m__call__\u001b[39m(\n\u001b[1;32m    979\u001b[0m     \u001b[39mself\u001b[39m,\n\u001b[1;32m    980\u001b[0m     text: Union[\u001b[39mstr\u001b[39m, Doc],\n\u001b[0;32m   (...)\u001b[0m\n\u001b[1;32m    983\u001b[0m     component_cfg: Optional[Dict[\u001b[39mstr\u001b[39m, Dict[\u001b[39mstr\u001b[39m, Any]]] \u001b[39m=\u001b[39m \u001b[39mNone\u001b[39;00m,\n\u001b[1;32m    984\u001b[0m ) \u001b[39m-\u001b[39m\u001b[39m>\u001b[39m Doc:\n\u001b[1;32m    985\u001b[0m \u001b[39m    \u001b[39m\u001b[39m\"\"\"Apply the pipeline to some text. The text can span multiple sentences,\u001b[39;00m\n\u001b[1;32m    986\u001b[0m \u001b[39m    and can contain arbitrary whitespace. Alignment into the original string\u001b[39;00m\n\u001b[1;32m    987\u001b[0m \u001b[39m    is preserved.\u001b[39;00m\n\u001b[0;32m   (...)\u001b[0m\n\u001b[1;32m    997\u001b[0m \u001b[39m    DOCS: https://spacy.io/api/language#call\u001b[39;00m\n\u001b[1;32m    998\u001b[0m \u001b[39m    \"\"\"\u001b[39;00m\n\u001b[0;32m--> 999\u001b[0m     doc \u001b[39m=\u001b[39m \u001b[39mself\u001b[39;49m\u001b[39m.\u001b[39;49m_ensure_doc(text)\n\u001b[1;32m   1000\u001b[0m     \u001b[39mif\u001b[39;00m component_cfg \u001b[39mis\u001b[39;00m \u001b[39mNone\u001b[39;00m:\n\u001b[1;32m   1001\u001b[0m         component_cfg \u001b[39m=\u001b[39m {}\n",
      "File \u001b[0;32m~/opt/anaconda3/lib/python3.9/site-packages/spacy/language.py:1093\u001b[0m, in \u001b[0;36mLanguage._ensure_doc\u001b[0;34m(self, doc_like)\u001b[0m\n\u001b[1;32m   1091\u001b[0m \u001b[39mif\u001b[39;00m \u001b[39misinstance\u001b[39m(doc_like, \u001b[39mbytes\u001b[39m):\n\u001b[1;32m   1092\u001b[0m     \u001b[39mreturn\u001b[39;00m Doc(\u001b[39mself\u001b[39m\u001b[39m.\u001b[39mvocab)\u001b[39m.\u001b[39mfrom_bytes(doc_like)\n\u001b[0;32m-> 1093\u001b[0m \u001b[39mraise\u001b[39;00m \u001b[39mValueError\u001b[39;00m(Errors\u001b[39m.\u001b[39mE1041\u001b[39m.\u001b[39mformat(\u001b[39mtype\u001b[39m\u001b[39m=\u001b[39m\u001b[39mtype\u001b[39m(doc_like)))\n",
      "\u001b[0;31mValueError\u001b[0m: [E1041] Expected a string, Doc, or bytes as input, but got: <class 'numpy.ndarray'>"
     ]
    }
   ],
   "source": [
    "# Приводим слова к начальной форме (лемме)\n",
    "import spacy\n",
    "nlp = spacy.load(\"en_core_web_sm\")\n",
    "doc = nlp(df['origin_sentences'].astype('unicode').values)\n",
    "\n",
    "token = doc\n",
    "print(token.text)\n",
    "for word in doc:\n",
    "    print('lemma:', word.lemma_)\n",
    "\n"
   ]
  },
  {
   "cell_type": "code",
   "execution_count": null,
   "metadata": {},
   "outputs": [],
   "source": []
  },
  {
   "attachments": {},
   "cell_type": "markdown",
   "metadata": {},
   "source": [
    "### NLTK"
   ]
  },
  {
   "cell_type": "code",
   "execution_count": 6,
   "metadata": {},
   "outputs": [],
   "source": [
    "import nltk\n",
    "from nltk.corpus import stopwords"
   ]
  },
  {
   "cell_type": "code",
   "execution_count": 19,
   "metadata": {},
   "outputs": [
    {
     "name": "stdout",
     "output_type": "stream",
     "text": [
      "{'they', \"won't\", 'have', 'don', 'each', 'themselves', 'theirs', 'its', 'between', 'when', 'up', 'under', 'just', \"shan't\", 'again', 'here', \"weren't\", 'so', 'was', 'couldn', 'hasn', 'm', 'do', 'to', 'an', 'ain', 'it', 'these', 'were', 'own', 'is', 'been', 'y', \"shouldn't\", 'herself', 'such', 'nor', 'will', 'now', 'o', \"isn't\", 'didn', 'be', 'this', 'wouldn', 'his', 'my', 'i', 're', \"mustn't\", 'from', 'had', \"couldn't\", 'while', 'haven', \"you'll\", 'them', 'below', 'where', 'll', \"didn't\", 'a', 'her', 'about', 'any', 'isn', 'needn', 'in', \"you've\", 'your', 'our', 'against', 'too', 'shouldn', 'won', 'both', 'him', 'who', 'after', \"you're\", 'am', 'has', 'weren', 'myself', \"haven't\", 'are', 'off', 'once', 't', 'doesn', 'yourselves', \"needn't\", 'should', \"hadn't\", 'whom', \"wasn't\", \"mightn't\", 'on', 'than', 've', 'but', 'more', 'through', \"aren't\", 'other', 'by', 'above', 'hadn', 'and', 'doing', 'we', \"hasn't\", 'did', 'of', 'how', \"doesn't\", 'during', 'into', 'before', 'ours', 'aren', 'you', \"she's\", 'itself', 'because', 'd', \"don't\", 'over', \"it's\", 'only', 's', 'down', 'ma', \"wouldn't\", \"that'll\", \"should've\", 'why', 'if', 'as', 'out', 'yours', 'himself', 'until', 'there', 'all', 'can', 'having', 'at', 'most', 'those', 'few', 'mightn', 'which', 'yourself', 'not', 'or', 'hers', 'mustn', 'some', 'wasn', 'he', 'with', 'for', \"you'd\", 'ourselves', 'does', 'their', 'the', 'shan', 'she', 'that', 'then', 'no', 'very', 'what', 'same', 'further', 'me', 'being'}\n"
     ]
    }
   ],
   "source": [
    "stops = set(stopwords.words('english'))\n",
    "print(stops)"
   ]
  },
  {
   "cell_type": "code",
   "execution_count": null,
   "metadata": {},
   "outputs": [],
   "source": []
  },
  {
   "cell_type": "code",
   "execution_count": 17,
   "metadata": {},
   "outputs": [],
   "source": [
    "# Токенизируем каждо\n",
    "\n",
    "df['bag_of_words'] = df.origin_sentences.apply(lambda x: nltk.word_tokenize(x))\n",
    "\n",
    "#result2 = df.assign(feature_1=df.apply(nltk.word_tokenize(\"a house word \")))\n",
    "\n",
    "#bag_of_words"
   ]
  },
  {
   "cell_type": "code",
   "execution_count": 18,
   "metadata": {},
   "outputs": [
    {
     "data": {
      "text/html": [
       "<div>\n",
       "<style scoped>\n",
       "    .dataframe tbody tr th:only-of-type {\n",
       "        vertical-align: middle;\n",
       "    }\n",
       "\n",
       "    .dataframe tbody tr th {\n",
       "        vertical-align: top;\n",
       "    }\n",
       "\n",
       "    .dataframe thead th {\n",
       "        text-align: right;\n",
       "    }\n",
       "</style>\n",
       "<table border=\"1\" class=\"dataframe\">\n",
       "  <thead>\n",
       "    <tr style=\"text-align: right;\">\n",
       "      <th></th>\n",
       "      <th>origin_sentences</th>\n",
       "      <th>bag_of_words</th>\n",
       "    </tr>\n",
       "  </thead>\n",
       "  <tbody>\n",
       "    <tr>\n",
       "      <th>0</th>\n",
       "      <td>Little Red Cap</td>\n",
       "      <td>[Little, Red, Cap]</td>\n",
       "    </tr>\n",
       "    <tr>\n",
       "      <th>1</th>\n",
       "      <td>Jacob and Wilhelm Grimm</td>\n",
       "      <td>[Jacob, and, Wilhelm, Grimm]</td>\n",
       "    </tr>\n",
       "    <tr>\n",
       "      <th>2</th>\n",
       "      <td>Once upon a time there was a sweet little girl...</td>\n",
       "      <td>[Once, upon, a, time, there, was, a, sweet, li...</td>\n",
       "    </tr>\n",
       "    <tr>\n",
       "      <th>3</th>\n",
       "      <td>One day her mother said to her, \"Come Little R...</td>\n",
       "      <td>[One, day, her, mother, said, to, her, ,, ``, ...</td>\n",
       "    </tr>\n",
       "    <tr>\n",
       "      <th>4</th>\n",
       "      <td>Little Red Cap promised to obey her mother. Th...</td>\n",
       "      <td>[Little, Red, Cap, promised, to, obey, her, mo...</td>\n",
       "    </tr>\n",
       "    <tr>\n",
       "      <th>5</th>\n",
       "      <td>Good day to you, Little Red Cap.</td>\n",
       "      <td>[Good, day, to, you, ,, Little, Red, Cap, .]</td>\n",
       "    </tr>\n",
       "    <tr>\n",
       "      <th>6</th>\n",
       "      <td>Thank you, wolf.</td>\n",
       "      <td>[Thank, you, ,, wolf, .]</td>\n",
       "    </tr>\n",
       "    <tr>\n",
       "      <th>7</th>\n",
       "      <td>Where are you going so early, Little Red Cap?</td>\n",
       "      <td>[Where, are, you, going, so, early, ,, Little,...</td>\n",
       "    </tr>\n",
       "    <tr>\n",
       "      <th>8</th>\n",
       "      <td>To grandmother's.</td>\n",
       "      <td>[To, grandmother, 's, .]</td>\n",
       "    </tr>\n",
       "    <tr>\n",
       "      <th>9</th>\n",
       "      <td>And what are you carrying under your apron?</td>\n",
       "      <td>[And, what, are, you, carrying, under, your, a...</td>\n",
       "    </tr>\n",
       "    <tr>\n",
       "      <th>10</th>\n",
       "      <td>Grandmother is sick and weak, and I am taking ...</td>\n",
       "      <td>[Grandmother, is, sick, and, weak, ,, and, I, ...</td>\n",
       "    </tr>\n",
       "    <tr>\n",
       "      <th>11</th>\n",
       "      <td>Little Red Cap, just where does your grandmoth...</td>\n",
       "      <td>[Little, Red, Cap, ,, just, where, does, your,...</td>\n",
       "    </tr>\n",
       "    <tr>\n",
       "      <th>12</th>\n",
       "      <td>Her house is a good quarter hour from here in ...</td>\n",
       "      <td>[Her, house, is, a, good, quarter, hour, from,...</td>\n",
       "    </tr>\n",
       "    <tr>\n",
       "      <th>13</th>\n",
       "      <td>The wolf thought to himself, \"Now there is a t...</td>\n",
       "      <td>[The, wolf, thought, to, himself, ,, ``, Now, ...</td>\n",
       "    </tr>\n",
       "    <tr>\n",
       "      <th>14</th>\n",
       "      <td>Little Red Cap opened her eyes and saw the sun...</td>\n",
       "      <td>[Little, Red, Cap, opened, her, eyes, and, saw...</td>\n",
       "    </tr>\n",
       "    <tr>\n",
       "      <th>15</th>\n",
       "      <td>Who's there?</td>\n",
       "      <td>[Who, 's, there, ?]</td>\n",
       "    </tr>\n",
       "    <tr>\n",
       "      <th>16</th>\n",
       "      <td>Little Red Cap. I'm bringing you some cake and...</td>\n",
       "      <td>[Little, Red, Cap, ., I, 'm, bringing, you, so...</td>\n",
       "    </tr>\n",
       "    <tr>\n",
       "      <th>17</th>\n",
       "      <td>Just press the latch, called out the grandmoth...</td>\n",
       "      <td>[Just, press, the, latch, ,, called, out, the,...</td>\n",
       "    </tr>\n",
       "    <tr>\n",
       "      <th>18</th>\n",
       "      <td>The wolf pressed the latch, and the door opene...</td>\n",
       "      <td>[The, wolf, pressed, the, latch, ,, and, the, ...</td>\n",
       "    </tr>\n",
       "    <tr>\n",
       "      <th>19</th>\n",
       "      <td>Little Red Cap had run after flowers, and did ...</td>\n",
       "      <td>[Little, Red, Cap, had, run, after, flowers, ,...</td>\n",
       "    </tr>\n",
       "    <tr>\n",
       "      <th>20</th>\n",
       "      <td>Oh, grandmother, what big ears you have!</td>\n",
       "      <td>[Oh, ,, grandmother, ,, what, big, ears, you, ...</td>\n",
       "    </tr>\n",
       "    <tr>\n",
       "      <th>21</th>\n",
       "      <td>All the better to hear you with.</td>\n",
       "      <td>[All, the, better, to, hear, you, with, .]</td>\n",
       "    </tr>\n",
       "    <tr>\n",
       "      <th>22</th>\n",
       "      <td>Oh, grandmother, what big eyes you have!</td>\n",
       "      <td>[Oh, ,, grandmother, ,, what, big, eyes, you, ...</td>\n",
       "    </tr>\n",
       "    <tr>\n",
       "      <th>23</th>\n",
       "      <td>All the better to see you with.</td>\n",
       "      <td>[All, the, better, to, see, you, with, .]</td>\n",
       "    </tr>\n",
       "    <tr>\n",
       "      <th>24</th>\n",
       "      <td>Oh, grandmother, what big hands you have!</td>\n",
       "      <td>[Oh, ,, grandmother, ,, what, big, hands, you,...</td>\n",
       "    </tr>\n",
       "    <tr>\n",
       "      <th>25</th>\n",
       "      <td>All the better to grab you with!</td>\n",
       "      <td>[All, the, better, to, grab, you, with, !]</td>\n",
       "    </tr>\n",
       "    <tr>\n",
       "      <th>26</th>\n",
       "      <td>Oh, grandmother, what a horribly big mouth you...</td>\n",
       "      <td>[Oh, ,, grandmother, ,, what, a, horribly, big...</td>\n",
       "    </tr>\n",
       "    <tr>\n",
       "      <th>27</th>\n",
       "      <td>All the better to eat you with! And with that ...</td>\n",
       "      <td>[All, the, better, to, eat, you, with, !, And,...</td>\n",
       "    </tr>\n",
       "    <tr>\n",
       "      <th>28</th>\n",
       "      <td>A huntsman was just passing by. He thought it ...</td>\n",
       "      <td>[A, huntsman, was, just, passing, by, ., He, t...</td>\n",
       "    </tr>\n",
       "    <tr>\n",
       "      <th>29</th>\n",
       "      <td>He had cut only a few strokes when he saw the ...</td>\n",
       "      <td>[He, had, cut, only, a, few, strokes, when, he...</td>\n",
       "    </tr>\n",
       "    <tr>\n",
       "      <th>30</th>\n",
       "      <td>And then the grandmother came out alive as wel...</td>\n",
       "      <td>[And, then, the, grandmother, came, out, alive...</td>\n",
       "    </tr>\n",
       "    <tr>\n",
       "      <th>31</th>\n",
       "      <td>The three of them were happy. The huntsman too...</td>\n",
       "      <td>[The, three, of, them, were, happy, ., The, hu...</td>\n",
       "    </tr>\n",
       "    <tr>\n",
       "      <th>32</th>\n",
       "      <td>They also tell how Little Red Cap was taking s...</td>\n",
       "      <td>[They, also, tell, how, Little, Red, Cap, was,...</td>\n",
       "    </tr>\n",
       "    <tr>\n",
       "      <th>33</th>\n",
       "      <td>Come, said the grandmother. \"Let's lock the do...</td>\n",
       "      <td>[Come, ,, said, the, grandmother, ., ``, Let, ...</td>\n",
       "    </tr>\n",
       "    <tr>\n",
       "      <th>34</th>\n",
       "      <td>Soon afterward the wolf knocked on the door an...</td>\n",
       "      <td>[Soon, afterward, the, wolf, knocked, on, the,...</td>\n",
       "    </tr>\n",
       "    <tr>\n",
       "      <th>35</th>\n",
       "      <td>They remained silent, and did not open the doo...</td>\n",
       "      <td>[They, remained, silent, ,, and, did, not, ope...</td>\n",
       "    </tr>\n",
       "    <tr>\n",
       "      <th>36</th>\n",
       "      <td>Fetch a bucket, Little Red Cap, she said. \"Yes...</td>\n",
       "      <td>[Fetch, a, bucket, ,, Little, Red, Cap, ,, she...</td>\n",
       "    </tr>\n",
       "    <tr>\n",
       "      <th>37</th>\n",
       "      <td>Source: \"Rothkäppchen,\" Kinder- und Hausmärche...</td>\n",
       "      <td>[Source, :, ``, Rothkäppchen, ,, '', Kinder-, ...</td>\n",
       "    </tr>\n",
       "    <tr>\n",
       "      <th>38</th>\n",
       "      <td>The Grimms' source for the first variant (the ...</td>\n",
       "      <td>[The, Grimms, ', source, for, the, first, vari...</td>\n",
       "    </tr>\n",
       "    <tr>\n",
       "      <th>39</th>\n",
       "      <td>The German title of this tale is Rotkäppchen (...</td>\n",
       "      <td>[The, German, title, of, this, tale, is, Rotkä...</td>\n",
       "    </tr>\n",
       "    <tr>\n",
       "      <th>40</th>\n",
       "      <td>Link to an English translation of the Grimms' ...</td>\n",
       "      <td>[Link, to, an, English, translation, of, the, ...</td>\n",
       "    </tr>\n",
       "    <tr>\n",
       "      <th>41</th>\n",
       "      <td>Link to the German text of the Grimms' final v...</td>\n",
       "      <td>[Link, to, the, German, text, of, the, Grimms,...</td>\n",
       "    </tr>\n",
       "  </tbody>\n",
       "</table>\n",
       "</div>"
      ],
      "text/plain": [
       "                                     origin_sentences  \\\n",
       "0                                      Little Red Cap   \n",
       "1                             Jacob and Wilhelm Grimm   \n",
       "2   Once upon a time there was a sweet little girl...   \n",
       "3   One day her mother said to her, \"Come Little R...   \n",
       "4   Little Red Cap promised to obey her mother. Th...   \n",
       "5                    Good day to you, Little Red Cap.   \n",
       "6                                    Thank you, wolf.   \n",
       "7       Where are you going so early, Little Red Cap?   \n",
       "8                                   To grandmother's.   \n",
       "9         And what are you carrying under your apron?   \n",
       "10  Grandmother is sick and weak, and I am taking ...   \n",
       "11  Little Red Cap, just where does your grandmoth...   \n",
       "12  Her house is a good quarter hour from here in ...   \n",
       "13  The wolf thought to himself, \"Now there is a t...   \n",
       "14  Little Red Cap opened her eyes and saw the sun...   \n",
       "15                                       Who's there?   \n",
       "16  Little Red Cap. I'm bringing you some cake and...   \n",
       "17  Just press the latch, called out the grandmoth...   \n",
       "18  The wolf pressed the latch, and the door opene...   \n",
       "19  Little Red Cap had run after flowers, and did ...   \n",
       "20           Oh, grandmother, what big ears you have!   \n",
       "21                   All the better to hear you with.   \n",
       "22           Oh, grandmother, what big eyes you have!   \n",
       "23                    All the better to see you with.   \n",
       "24          Oh, grandmother, what big hands you have!   \n",
       "25                   All the better to grab you with!   \n",
       "26  Oh, grandmother, what a horribly big mouth you...   \n",
       "27  All the better to eat you with! And with that ...   \n",
       "28  A huntsman was just passing by. He thought it ...   \n",
       "29  He had cut only a few strokes when he saw the ...   \n",
       "30  And then the grandmother came out alive as wel...   \n",
       "31  The three of them were happy. The huntsman too...   \n",
       "32  They also tell how Little Red Cap was taking s...   \n",
       "33  Come, said the grandmother. \"Let's lock the do...   \n",
       "34  Soon afterward the wolf knocked on the door an...   \n",
       "35  They remained silent, and did not open the doo...   \n",
       "36  Fetch a bucket, Little Red Cap, she said. \"Yes...   \n",
       "37  Source: \"Rothkäppchen,\" Kinder- und Hausmärche...   \n",
       "38  The Grimms' source for the first variant (the ...   \n",
       "39  The German title of this tale is Rotkäppchen (...   \n",
       "40  Link to an English translation of the Grimms' ...   \n",
       "41  Link to the German text of the Grimms' final v...   \n",
       "\n",
       "                                         bag_of_words  \n",
       "0                                  [Little, Red, Cap]  \n",
       "1                        [Jacob, and, Wilhelm, Grimm]  \n",
       "2   [Once, upon, a, time, there, was, a, sweet, li...  \n",
       "3   [One, day, her, mother, said, to, her, ,, ``, ...  \n",
       "4   [Little, Red, Cap, promised, to, obey, her, mo...  \n",
       "5        [Good, day, to, you, ,, Little, Red, Cap, .]  \n",
       "6                            [Thank, you, ,, wolf, .]  \n",
       "7   [Where, are, you, going, so, early, ,, Little,...  \n",
       "8                            [To, grandmother, 's, .]  \n",
       "9   [And, what, are, you, carrying, under, your, a...  \n",
       "10  [Grandmother, is, sick, and, weak, ,, and, I, ...  \n",
       "11  [Little, Red, Cap, ,, just, where, does, your,...  \n",
       "12  [Her, house, is, a, good, quarter, hour, from,...  \n",
       "13  [The, wolf, thought, to, himself, ,, ``, Now, ...  \n",
       "14  [Little, Red, Cap, opened, her, eyes, and, saw...  \n",
       "15                                [Who, 's, there, ?]  \n",
       "16  [Little, Red, Cap, ., I, 'm, bringing, you, so...  \n",
       "17  [Just, press, the, latch, ,, called, out, the,...  \n",
       "18  [The, wolf, pressed, the, latch, ,, and, the, ...  \n",
       "19  [Little, Red, Cap, had, run, after, flowers, ,...  \n",
       "20  [Oh, ,, grandmother, ,, what, big, ears, you, ...  \n",
       "21         [All, the, better, to, hear, you, with, .]  \n",
       "22  [Oh, ,, grandmother, ,, what, big, eyes, you, ...  \n",
       "23          [All, the, better, to, see, you, with, .]  \n",
       "24  [Oh, ,, grandmother, ,, what, big, hands, you,...  \n",
       "25         [All, the, better, to, grab, you, with, !]  \n",
       "26  [Oh, ,, grandmother, ,, what, a, horribly, big...  \n",
       "27  [All, the, better, to, eat, you, with, !, And,...  \n",
       "28  [A, huntsman, was, just, passing, by, ., He, t...  \n",
       "29  [He, had, cut, only, a, few, strokes, when, he...  \n",
       "30  [And, then, the, grandmother, came, out, alive...  \n",
       "31  [The, three, of, them, were, happy, ., The, hu...  \n",
       "32  [They, also, tell, how, Little, Red, Cap, was,...  \n",
       "33  [Come, ,, said, the, grandmother, ., ``, Let, ...  \n",
       "34  [Soon, afterward, the, wolf, knocked, on, the,...  \n",
       "35  [They, remained, silent, ,, and, did, not, ope...  \n",
       "36  [Fetch, a, bucket, ,, Little, Red, Cap, ,, she...  \n",
       "37  [Source, :, ``, Rothkäppchen, ,, '', Kinder-, ...  \n",
       "38  [The, Grimms, ', source, for, the, first, vari...  \n",
       "39  [The, German, title, of, this, tale, is, Rotkä...  \n",
       "40  [Link, to, an, English, translation, of, the, ...  \n",
       "41  [Link, to, the, German, text, of, the, Grimms,...  "
      ]
     },
     "execution_count": 18,
     "metadata": {},
     "output_type": "execute_result"
    }
   ],
   "source": [
    "df"
   ]
  },
  {
   "cell_type": "code",
   "execution_count": 1,
   "metadata": {},
   "outputs": [
    {
     "ename": "NameError",
     "evalue": "name 'pd' is not defined",
     "output_type": "error",
     "traceback": [
      "\u001b[0;31m---------------------------------------------------------------------------\u001b[0m",
      "\u001b[0;31mNameError\u001b[0m                                 Traceback (most recent call last)",
      "Cell \u001b[0;32mIn[1], line 1\u001b[0m\n\u001b[0;32m----> 1\u001b[0m df_words \u001b[39m=\u001b[39m pd\u001b[39m.\u001b[39mDataFrame({\u001b[39m'\u001b[39m\u001b[39morigin_words\u001b[39m\u001b[39m'\u001b[39m:bag_of_words})\n\u001b[1;32m      2\u001b[0m df_words\n",
      "\u001b[0;31mNameError\u001b[0m: name 'pd' is not defined"
     ]
    }
   ],
   "source": [
    "df_words = pd.DataFrame({'origin_words':bag_of_words})\n",
    "df_words"
   ]
  },
  {
   "cell_type": "code",
   "execution_count": 29,
   "metadata": {},
   "outputs": [
    {
     "data": {
      "text/plain": [
       "{'likable', 'like', 'likeable', 'likeness'}"
      ]
     },
     "execution_count": 29,
     "metadata": {},
     "output_type": "execute_result"
    }
   ],
   "source": [
    "# Этот код ищет словоформы, но только существвительные\n",
    "\n",
    "from nltk.corpus import wordnet as wn\n",
    "\n",
    "forms = set() #We'll store the derivational forms in a set to eliminate duplicates\n",
    "for happy_lemma in wn.lemmas(\"like\"): #for each \"happy\" lemma in WordNet\n",
    "    forms.add(happy_lemma.name()) #add the lemma itself\n",
    "    for related_lemma in happy_lemma.derivationally_related_forms(): #for each related lemma\n",
    "        forms.add(related_lemma.name()) #add the related lemma\n",
    "forms        "
   ]
  },
  {
   "cell_type": "code",
   "execution_count": 5,
   "metadata": {},
   "outputs": [],
   "source": [
    "tokens_sens = nltk.tokenize.sent_tokenize(text, language='english')"
   ]
  },
  {
   "cell_type": "code",
   "execution_count": 6,
   "metadata": {},
   "outputs": [
    {
     "data": {
      "text/html": [
       "<div>\n",
       "<style scoped>\n",
       "    .dataframe tbody tr th:only-of-type {\n",
       "        vertical-align: middle;\n",
       "    }\n",
       "\n",
       "    .dataframe tbody tr th {\n",
       "        vertical-align: top;\n",
       "    }\n",
       "\n",
       "    .dataframe thead th {\n",
       "        text-align: right;\n",
       "    }\n",
       "</style>\n",
       "<table border=\"1\" class=\"dataframe\">\n",
       "  <thead>\n",
       "    <tr style=\"text-align: right;\">\n",
       "      <th></th>\n",
       "      <th>sentence</th>\n",
       "    </tr>\n",
       "  </thead>\n",
       "  <tbody>\n",
       "    <tr>\n",
       "      <th>0</th>\n",
       "      <td>Once upon a time there was a sweet little girl.</td>\n",
       "    </tr>\n",
       "    <tr>\n",
       "      <th>1</th>\n",
       "      <td>Everyone who saw her liked her, but most of all her grandmother, who did not know what to give the child next.</td>\n",
       "    </tr>\n",
       "    <tr>\n",
       "      <th>2</th>\n",
       "      <td>Once she gave her a little cap made of red velvet.</td>\n",
       "    </tr>\n",
       "    <tr>\n",
       "      <th>3</th>\n",
       "      <td>Because it suited her so well, and she wanted to wear it all the time, she came to be known as Little Red Cap.</td>\n",
       "    </tr>\n",
       "    <tr>\n",
       "      <th>4</th>\n",
       "      <td>One day her mother said to her, \"Come Little Red Cap.</td>\n",
       "    </tr>\n",
       "    <tr>\n",
       "      <th>5</th>\n",
       "      <td>Here is a piece of cake and a bottle of wine.</td>\n",
       "    </tr>\n",
       "    <tr>\n",
       "      <th>6</th>\n",
       "      <td>Take them to your grandmother.</td>\n",
       "    </tr>\n",
       "    <tr>\n",
       "      <th>7</th>\n",
       "      <td>She is sick and weak, and they will do her well.</td>\n",
       "    </tr>\n",
       "    <tr>\n",
       "      <th>8</th>\n",
       "      <td>Mind your manners and give her my greetings.</td>\n",
       "    </tr>\n",
       "    <tr>\n",
       "      <th>9</th>\n",
       "      <td>Behave yourself on the way, and do not leave the path, or you might fall down and break the glass, and then there will be nothing for your sick grandmother.\"</td>\n",
       "    </tr>\n",
       "    <tr>\n",
       "      <th>10</th>\n",
       "      <td>Little Red Cap promised to obey her mother.</td>\n",
       "    </tr>\n",
       "    <tr>\n",
       "      <th>11</th>\n",
       "      <td>The grandmother lived out in the woods, a half hour from the village.</td>\n",
       "    </tr>\n",
       "    <tr>\n",
       "      <th>12</th>\n",
       "      <td>When Little Red Cap entered the woods a wolf came up to her.</td>\n",
       "    </tr>\n",
       "    <tr>\n",
       "      <th>13</th>\n",
       "      <td>She did not know what a wicked animal he was, and was not afraid of him.</td>\n",
       "    </tr>\n",
       "    <tr>\n",
       "      <th>14</th>\n",
       "      <td>\"Good day to you, Little Red Cap.\"</td>\n",
       "    </tr>\n",
       "    <tr>\n",
       "      <th>15</th>\n",
       "      <td>\"Thank you, wolf.\"</td>\n",
       "    </tr>\n",
       "    <tr>\n",
       "      <th>16</th>\n",
       "      <td>\"Where are you going so early, Little Red Cap?\"</td>\n",
       "    </tr>\n",
       "    <tr>\n",
       "      <th>17</th>\n",
       "      <td>\"To grandmother's.\"</td>\n",
       "    </tr>\n",
       "    <tr>\n",
       "      <th>18</th>\n",
       "      <td>\"And what are you carrying under your apron?\"</td>\n",
       "    </tr>\n",
       "  </tbody>\n",
       "</table>\n",
       "</div>"
      ],
      "text/plain": [
       "                                                                                                                                                         sentence\n",
       "0                                                                                                                 Once upon a time there was a sweet little girl.\n",
       "1                                                  Everyone who saw her liked her, but most of all her grandmother, who did not know what to give the child next.\n",
       "2                                                                                                              Once she gave her a little cap made of red velvet.\n",
       "3                                                  Because it suited her so well, and she wanted to wear it all the time, she came to be known as Little Red Cap.\n",
       "4                                                                                                           One day her mother said to her, \"Come Little Red Cap.\n",
       "5                                                                                                                   Here is a piece of cake and a bottle of wine.\n",
       "6                                                                                                                                  Take them to your grandmother.\n",
       "7                                                                                                                She is sick and weak, and they will do her well.\n",
       "8                                                                                                                    Mind your manners and give her my greetings.\n",
       "9   Behave yourself on the way, and do not leave the path, or you might fall down and break the glass, and then there will be nothing for your sick grandmother.\"\n",
       "10                                                                                                                    Little Red Cap promised to obey her mother.\n",
       "11                                                                                          The grandmother lived out in the woods, a half hour from the village.\n",
       "12                                                                                                   When Little Red Cap entered the woods a wolf came up to her.\n",
       "13                                                                                       She did not know what a wicked animal he was, and was not afraid of him.\n",
       "14                                                                                                                             \"Good day to you, Little Red Cap.\"\n",
       "15                                                                                                                                             \"Thank you, wolf.\"\n",
       "16                                                                                                                \"Where are you going so early, Little Red Cap?\"\n",
       "17                                                                                                                                            \"To grandmother's.\"\n",
       "18                                                                                                                  \"And what are you carrying under your apron?\""
      ]
     },
     "execution_count": 6,
     "metadata": {},
     "output_type": "execute_result"
    }
   ],
   "source": [
    "pd.set_option('display.max_colwidth', None)\n",
    "df_sentences = pd.DataFrame({'sentence': tokens_sens})\n",
    "df_sentences"
   ]
  },
  {
   "cell_type": "code",
   "execution_count": null,
   "metadata": {},
   "outputs": [],
   "source": [
    "pd.set_option('display.max_colwidth', 50)"
   ]
  },
  {
   "attachments": {},
   "cell_type": "markdown",
   "metadata": {},
   "source": [
    "### Spacy"
   ]
  },
  {
   "cell_type": "code",
   "execution_count": 52,
   "metadata": {},
   "outputs": [
    {
     "name": "stdout",
     "output_type": "stream",
     "text": [
      "She did not know what a wicked animal he was, and was not afraid of him\n"
     ]
    }
   ],
   "source": [
    "\n",
    "\n",
    "\n",
    "\n",
    "\n"
   ]
  },
  {
   "cell_type": "code",
   "execution_count": 51,
   "metadata": {},
   "outputs": [],
   "source": [
    "# @Language.component(\"segm\")\n",
    "# def set_custom_segmentation(doc):\n",
    "#     for token in doc[:-1]:\n",
    "#         if token.text == '{S}':\n",
    "#             doc[token.i+1].is_sent_start = True\n",
    "#         else:\n",
    "#             doc[token.i+1].is_sent_start = False\n",
    "#     return doc"
   ]
  },
  {
   "cell_type": "code",
   "execution_count": 30,
   "metadata": {},
   "outputs": [],
   "source": []
  },
  {
   "cell_type": "code",
   "execution_count": 86,
   "metadata": {},
   "outputs": [
    {
     "name": "stdout",
     "output_type": "stream",
     "text": [
      "i= 1\n",
      "Once upon a time there was a sweet little girl.\n",
      "i= 2Everyone who saw her liked her, but most of all her grandmother, who did not know what to give the child next.\n",
      "i= 3Once she gave her a little cap made of red velvet.\n",
      "i= 4Because it suited her so well, and she wanted to wear it all the time, she came to be known as Little Red Cap.\n",
      "\n",
      "i= 5One day her mother said to her, \"Come Little Red Cap.\n",
      "i= 6Here is a piece of cake and a bottle of wine.\n",
      "i= 7Take them to your grandmother.\n",
      "i= 8She is sick and weak, and they will do her well.\n",
      "i= 9Mind your manners and give her my greetings.\n",
      "i= 10Behave yourself on the way, and do not leave the path, or you might fall down and break the glass, and then there will be nothing for your sick grandmother.\n",
      "i= 11\"\n",
      "\n",
      "Little Red Cap promised to obey her mother.\n",
      "i= 12The grandmother lived out in the woods, a half hour from the village.\n",
      "i= 13When Little Red Cap entered the woods a wolf came up to her.\n",
      "i= 14She did not know what a wicked animal he was, and was not afraid of him.\n",
      "\n",
      "\n",
      "i= 15\"Good day to you, Little Red Cap.\"\n",
      "\n",
      "\"Thank you, wolf.\n",
      "i= 16\"\n",
      "\n",
      "\"Where are you going so early, Little Red Cap?\"\n",
      "\n",
      "\"To grandmother's.\n",
      "i= 17\"\n",
      "\n",
      "\"And what are you carrying under your apron?\"\n",
      "\n"
     ]
    }
   ],
   "source": [
    "import spacy\n",
    "#from spacy.lang.ru import Russian\n",
    "#from spacy import displacy\n",
    "#from spacy.lang.en.examples import sentences \n",
    "\n",
    "#import en_core_web_sm\n",
    "#nlp = en_core_web_sm.load()\n",
    "\n",
    "nlp = spacy.load(\"en_core_web_sm\")\n",
    "doc = nlp('''\n",
    "Once upon a time there was a sweet little girl. Everyone who saw her liked her, but most of all her grandmother, who did not know what to give the child next. Once she gave her a little cap made of red velvet. Because it suited her so well, and she wanted to wear it all the time, she came to be known as Little Red Cap.\n",
    "One day her mother said to her, \"Come Little Red Cap. Here is a piece of cake and a bottle of wine. Take them to your grandmother. She is sick and weak, and they will do her well. Mind your manners and give her my greetings. Behave yourself on the way, and do not leave the path, or you might fall down and break the glass, and then there will be nothing for your sick grandmother.\"\n",
    "\n",
    "Little Red Cap promised to obey her mother. The grandmother lived out in the woods, a half hour from the village. When Little Red Cap entered the woods a wolf came up to her. She did not know what a wicked animal he was, and was not afraid of him.\n",
    "\n",
    "\"Good day to you, Little Red Cap.\"\n",
    "\n",
    "\"Thank you, wolf.\"\n",
    "\n",
    "\"Where are you going so early, Little Red Cap?\"\n",
    "\n",
    "\"To grandmother's.\"\n",
    "\n",
    "\"And what are you carrying under your apron?\"\n",
    "''')\n",
    "#open('Little_Red_Cap_ Jacob_and_Wilhelm_Grimm.txt', encoding ='utf-8')\n",
    "i=0\n",
    "for sent in doc.sents:\n",
    "    i+=1\n",
    "    print('i=', str(i)+sent.text)"
   ]
  },
  {
   "cell_type": "code",
   "execution_count": null,
   "metadata": {},
   "outputs": [],
   "source": []
  },
  {
   "cell_type": "code",
   "execution_count": 46,
   "metadata": {},
   "outputs": [
    {
     "name": "stdout",
     "output_type": "stream",
     "text": [
      "She she PRON PRP nsubj Xxx True True\n",
      "did do AUX VBD aux xxx True True\n",
      "not not PART RB neg xxx True True\n",
      "know know VERB VB ROOT xxxx True False\n",
      "what what PRON WP det xxxx True True\n",
      "a a DET DT det x True True\n",
      "wicked wicked ADJ JJ amod xxxx True False\n",
      "animal animal NOUN NN npadvmod xxxx True False\n",
      "he he PRON PRP nsubj xx True True\n",
      "was be AUX VBD ccomp xxx True True\n",
      ", , PUNCT , punct , False False\n",
      "and and CCONJ CC cc xxx True True\n",
      "was be AUX VBD conj xxx True True\n",
      "not not PART RB neg xxx True True\n",
      "afraid afraid ADJ JJ acomp xxxx True False\n",
      "of of ADP IN prep xx True True\n",
      "him he PRON PRP pobj xxx True True\n"
     ]
    }
   ],
   "source": [
    "for token in doc:\n",
    "    print(token.text, token.lemma_, token.pos_, token.tag_, token.dep_,\n",
    "            token.shape_, token.is_alpha, token.is_stop)"
   ]
  },
  {
   "cell_type": "code",
   "execution_count": 32,
   "metadata": {},
   "outputs": [
    {
     "data": {
      "text/html": [
       "<span class=\"tex2jax_ignore\"><svg xmlns=\"http://www.w3.org/2000/svg\" xmlns:xlink=\"http://www.w3.org/1999/xlink\" xml:lang=\"en\" id=\"aacbdc9137a849c59032b1b6c616aa4a-0\" class=\"displacy\" width=\"1100\" height=\"312.0\" direction=\"ltr\" style=\"max-width: none; height: 312.0px; color: #000000; background: #ffffff; font-family: Arial; direction: ltr\">\n",
       "<text class=\"displacy-token\" fill=\"currentColor\" text-anchor=\"middle\" y=\"222.0\">\n",
       "    <tspan class=\"displacy-word\" fill=\"currentColor\" x=\"50\">New</tspan>\n",
       "    <tspan class=\"displacy-tag\" dy=\"2em\" fill=\"currentColor\" x=\"50\">PROPN</tspan>\n",
       "</text>\n",
       "\n",
       "<text class=\"displacy-token\" fill=\"currentColor\" text-anchor=\"middle\" y=\"222.0\">\n",
       "    <tspan class=\"displacy-word\" fill=\"currentColor\" x=\"225\">Apple</tspan>\n",
       "    <tspan class=\"displacy-tag\" dy=\"2em\" fill=\"currentColor\" x=\"225\">PROPN</tspan>\n",
       "</text>\n",
       "\n",
       "<text class=\"displacy-token\" fill=\"currentColor\" text-anchor=\"middle\" y=\"222.0\">\n",
       "    <tspan class=\"displacy-word\" fill=\"currentColor\" x=\"400\">MacBook</tspan>\n",
       "    <tspan class=\"displacy-tag\" dy=\"2em\" fill=\"currentColor\" x=\"400\">PROPN</tspan>\n",
       "</text>\n",
       "\n",
       "<text class=\"displacy-token\" fill=\"currentColor\" text-anchor=\"middle\" y=\"222.0\">\n",
       "    <tspan class=\"displacy-word\" fill=\"currentColor\" x=\"575\">set</tspan>\n",
       "    <tspan class=\"displacy-tag\" dy=\"2em\" fill=\"currentColor\" x=\"575\">VERB</tspan>\n",
       "</text>\n",
       "\n",
       "<text class=\"displacy-token\" fill=\"currentColor\" text-anchor=\"middle\" y=\"222.0\">\n",
       "    <tspan class=\"displacy-word\" fill=\"currentColor\" x=\"750\">launch</tspan>\n",
       "    <tspan class=\"displacy-tag\" dy=\"2em\" fill=\"currentColor\" x=\"750\">NOUN</tspan>\n",
       "</text>\n",
       "\n",
       "<text class=\"displacy-token\" fill=\"currentColor\" text-anchor=\"middle\" y=\"222.0\">\n",
       "    <tspan class=\"displacy-word\" fill=\"currentColor\" x=\"925\">tomorrow</tspan>\n",
       "    <tspan class=\"displacy-tag\" dy=\"2em\" fill=\"currentColor\" x=\"925\">NOUN</tspan>\n",
       "</text>\n",
       "\n",
       "<g class=\"displacy-arrow\">\n",
       "    <path class=\"displacy-arc\" id=\"arrow-aacbdc9137a849c59032b1b6c616aa4a-0-0\" stroke-width=\"2px\" d=\"M70,177.0 C70,2.0 400.0,2.0 400.0,177.0\" fill=\"none\" stroke=\"currentColor\"/>\n",
       "    <text dy=\"1.25em\" style=\"font-size: 0.8em; letter-spacing: 1px\">\n",
       "        <textPath xlink:href=\"#arrow-aacbdc9137a849c59032b1b6c616aa4a-0-0\" class=\"displacy-label\" startOffset=\"50%\" side=\"left\" fill=\"currentColor\" text-anchor=\"middle\">compound</textPath>\n",
       "    </text>\n",
       "    <path class=\"displacy-arrowhead\" d=\"M70,179.0 L62,167.0 78,167.0\" fill=\"currentColor\"/>\n",
       "</g>\n",
       "\n",
       "<g class=\"displacy-arrow\">\n",
       "    <path class=\"displacy-arc\" id=\"arrow-aacbdc9137a849c59032b1b6c616aa4a-0-1\" stroke-width=\"2px\" d=\"M245,177.0 C245,89.5 395.0,89.5 395.0,177.0\" fill=\"none\" stroke=\"currentColor\"/>\n",
       "    <text dy=\"1.25em\" style=\"font-size: 0.8em; letter-spacing: 1px\">\n",
       "        <textPath xlink:href=\"#arrow-aacbdc9137a849c59032b1b6c616aa4a-0-1\" class=\"displacy-label\" startOffset=\"50%\" side=\"left\" fill=\"currentColor\" text-anchor=\"middle\">compound</textPath>\n",
       "    </text>\n",
       "    <path class=\"displacy-arrowhead\" d=\"M245,179.0 L237,167.0 253,167.0\" fill=\"currentColor\"/>\n",
       "</g>\n",
       "\n",
       "<g class=\"displacy-arrow\">\n",
       "    <path class=\"displacy-arc\" id=\"arrow-aacbdc9137a849c59032b1b6c616aa4a-0-2\" stroke-width=\"2px\" d=\"M420,177.0 C420,89.5 570.0,89.5 570.0,177.0\" fill=\"none\" stroke=\"currentColor\"/>\n",
       "    <text dy=\"1.25em\" style=\"font-size: 0.8em; letter-spacing: 1px\">\n",
       "        <textPath xlink:href=\"#arrow-aacbdc9137a849c59032b1b6c616aa4a-0-2\" class=\"displacy-label\" startOffset=\"50%\" side=\"left\" fill=\"currentColor\" text-anchor=\"middle\">nsubj</textPath>\n",
       "    </text>\n",
       "    <path class=\"displacy-arrowhead\" d=\"M420,179.0 L412,167.0 428,167.0\" fill=\"currentColor\"/>\n",
       "</g>\n",
       "\n",
       "<g class=\"displacy-arrow\">\n",
       "    <path class=\"displacy-arc\" id=\"arrow-aacbdc9137a849c59032b1b6c616aa4a-0-3\" stroke-width=\"2px\" d=\"M595,177.0 C595,89.5 745.0,89.5 745.0,177.0\" fill=\"none\" stroke=\"currentColor\"/>\n",
       "    <text dy=\"1.25em\" style=\"font-size: 0.8em; letter-spacing: 1px\">\n",
       "        <textPath xlink:href=\"#arrow-aacbdc9137a849c59032b1b6c616aa4a-0-3\" class=\"displacy-label\" startOffset=\"50%\" side=\"left\" fill=\"currentColor\" text-anchor=\"middle\">dobj</textPath>\n",
       "    </text>\n",
       "    <path class=\"displacy-arrowhead\" d=\"M745.0,179.0 L753.0,167.0 737.0,167.0\" fill=\"currentColor\"/>\n",
       "</g>\n",
       "\n",
       "<g class=\"displacy-arrow\">\n",
       "    <path class=\"displacy-arc\" id=\"arrow-aacbdc9137a849c59032b1b6c616aa4a-0-4\" stroke-width=\"2px\" d=\"M595,177.0 C595,2.0 925.0,2.0 925.0,177.0\" fill=\"none\" stroke=\"currentColor\"/>\n",
       "    <text dy=\"1.25em\" style=\"font-size: 0.8em; letter-spacing: 1px\">\n",
       "        <textPath xlink:href=\"#arrow-aacbdc9137a849c59032b1b6c616aa4a-0-4\" class=\"displacy-label\" startOffset=\"50%\" side=\"left\" fill=\"currentColor\" text-anchor=\"middle\">npadvmod</textPath>\n",
       "    </text>\n",
       "    <path class=\"displacy-arrowhead\" d=\"M925.0,179.0 L933.0,167.0 917.0,167.0\" fill=\"currentColor\"/>\n",
       "</g>\n",
       "</svg></span>"
      ],
      "text/plain": [
       "<IPython.core.display.HTML object>"
      ]
     },
     "metadata": {},
     "output_type": "display_data"
    }
   ],
   "source": [
    "displacy.render(doc, style='dep', jupyter=True)"
   ]
  },
  {
   "cell_type": "code",
   "execution_count": 13,
   "metadata": {},
   "outputs": [
    {
     "data": {
      "text/plain": [
       "'do'"
      ]
     },
     "execution_count": 13,
     "metadata": {},
     "output_type": "execute_result"
    }
   ],
   "source": []
  },
  {
   "cell_type": "code",
   "execution_count": 41,
   "metadata": {},
   "outputs": [
    {
     "name": "stdout",
     "output_type": "stream",
     "text": [
      "She did not know what a wicked animal he was, and was not afraid of him\n",
      "lemma: she\n",
      "lemma: do\n",
      "lemma: not\n",
      "lemma: know\n",
      "lemma: what\n",
      "lemma: a\n",
      "lemma: wicked\n",
      "lemma: animal\n",
      "lemma: he\n",
      "lemma: be\n",
      "lemma: ,\n",
      "lemma: and\n",
      "lemma: be\n",
      "lemma: not\n",
      "lemma: afraid\n",
      "lemma: of\n",
      "lemma: he\n"
     ]
    }
   ],
   "source": [
    "token = doc\n",
    "print(token.text)\n",
    "for word in doc:\n",
    "    print('lemma:', word.lemma_)"
   ]
  },
  {
   "cell_type": "code",
   "execution_count": 24,
   "metadata": {},
   "outputs": [],
   "source": [
    "nlp = Russian()\n",
    "doc = nlp(\"Съешь ещё этих мягких французских булок, да выпей чаю.\")"
   ]
  },
  {
   "cell_type": "code",
   "execution_count": 25,
   "metadata": {},
   "outputs": [
    {
     "name": "stdout",
     "output_type": "stream",
     "text": [
      "Съешь\n",
      "мягких французских булок\n"
     ]
    }
   ],
   "source": [
    "token = doc[0]\n",
    "print(token.text)\n",
    "\n",
    "span = doc[3:6]\n",
    "print(span.text)"
   ]
  },
  {
   "cell_type": "code",
   "execution_count": 52,
   "metadata": {},
   "outputs": [
    {
     "name": "stdout",
     "output_type": "stream",
     "text": [
      "is_alpha:     [True, True, True, True, True, True, False, True, True, True, False]\n",
      "is_punct:     [False, False, False, False, False, False, True, False, False, False, True]\n",
      "like_num:     [False, False, False, False, False, False, False, False, False, False, False]\n"
     ]
    }
   ],
   "source": [
    "print(\"is_alpha:    \", [token.is_alpha for token in doc])\n",
    "print(\"is_punct:    \", [token.is_punct for token in doc])\n",
    "print(\"like_num:    \", [token.like_num for token in doc])"
   ]
  },
  {
   "cell_type": "code",
   "execution_count": null,
   "metadata": {},
   "outputs": [],
   "source": []
  },
  {
   "attachments": {},
   "cell_type": "markdown",
   "metadata": {},
   "source": [
    "### Gensim"
   ]
  },
  {
   "cell_type": "code",
   "execution_count": 23,
   "metadata": {},
   "outputs": [
    {
     "name": "stdout",
     "output_type": "stream",
     "text": [
      "['little', 'red', 'cap', 'jacob', 'and', 'wilhelm', 'grimm', 'once', 'upon', 'time', 'there', 'was', 'sweet', 'little', 'girl']\n",
      "['everyone', 'who', 'saw', 'her', 'liked', 'her', 'but', 'most', 'of', 'all', 'her', 'grandmother', 'who', 'did', 'not', 'know', 'what', 'to', 'give', 'the', 'child', 'next']\n",
      "['once', 'she', 'gave', 'her', 'little', 'cap', 'made', 'of', 'red', 'velvet']\n",
      "['because', 'it', 'suited', 'her', 'so', 'well', 'and', 'she', 'wanted', 'to', 'wear', 'it', 'all', 'the', 'time', 'she', 'came', 'to', 'be', 'known', 'as', 'little', 'red', 'cap']\n",
      "['one', 'day', 'her', 'mother', 'said', 'to', 'her', 'come', 'little', 'red', 'cap']\n",
      "['here', 'is', 'piece', 'of', 'cake', 'and', 'bottle', 'of', 'wine']\n",
      "['take', 'them', 'to', 'your', 'grandmother']\n",
      "['she', 'is', 'sick', 'and', 'weak', 'and', 'they', 'will', 'do', 'her', 'well']\n",
      "['mind', 'your', 'manners', 'and', 'give', 'her', 'my', 'greetings']\n",
      "['behave', 'yourself', 'on', 'the', 'way', 'and', 'do', 'not', 'leave', 'the', 'path', 'or', 'you', 'might', 'fall', 'down', 'and', 'break', 'the', 'glass', 'and', 'then', 'there', 'will', 'be', 'nothing', 'for', 'your', 'sick', 'grandmother']\n",
      "['little', 'red', 'cap', 'promised', 'to', 'obey', 'her', 'mother']\n",
      "['the', 'grandmother', 'lived', 'out', 'in', 'the', 'woods', 'half', 'hour', 'from', 'the', 'village']\n",
      "['when', 'little', 'red', 'cap', 'entered', 'the', 'woods', 'wolf', 'came', 'up', 'to', 'her']\n",
      "['she', 'did', 'not', 'know', 'what', 'wicked', 'animal', 'he', 'was', 'and', 'was', 'not', 'afraid', 'of', 'him']\n",
      "['good', 'day', 'to', 'you', 'little', 'red', 'cap']\n",
      "['thank', 'you', 'wolf']\n",
      "['where', 'are', 'you', 'going', 'so', 'early', 'little', 'red', 'cap', 'to', 'grandmother']\n",
      "['and', 'what', 'are', 'you', 'carrying', 'under', 'your', 'apron', 'grandmother', 'is', 'sick', 'and', 'weak', 'and', 'am', 'taking', 'her', 'some', 'cake', 'and', 'wine']\n",
      "['we', 'baked', 'yesterday', 'and', 'they', 'should', 'give', 'her', 'strength']\n",
      "['little', 'red', 'cap', 'just', 'where', 'does', 'your', 'grandmother', 'live', 'her', 'house', 'is', 'good', 'quarter', 'hour', 'from', 'here', 'in', 'the', 'woods', 'under', 'the', 'three', 'large', 'oak', 'trees']\n",
      "['there', 'hedge', 'of', 'hazel', 'bushes', 'there']\n",
      "['you', 'must', 'know', 'the', 'place', 'said', 'little', 'red', 'cap']\n",
      "['the', 'wolf', 'thought', 'to', 'himself', 'now', 'there', 'is', 'tasty', 'bite', 'for', 'me']\n",
      "['just', 'how', 'are', 'you', 'going', 'to', 'catch', 'her', 'then', 'he', 'said', 'listen', 'little', 'red', 'cap', 'haven', 'you', 'seen', 'the', 'beautiful', 'flowers', 'that', 'are', 'blossoming', 'in', 'the', 'woods', 'why', 'don', 'you', 'go', 'and', 'take', 'look', 'and', 'don', 'believe', 'you', 'can', 'hear', 'how', 'beautifully', 'the', 'birds', 'are', 'singing']\n",
      "['you', 'are', 'walking', 'along', 'as', 'though', 'you', 'were', 'on', 'your', 'way', 'to', 'school', 'in', 'the', 'village']\n",
      "['it', 'is', 'very', 'beautiful', 'in', 'the', 'woods']\n",
      "['little', 'red', 'cap', 'opened', 'her', 'eyes', 'and', 'saw', 'the', 'sunlight', 'breaking', 'through', 'the', 'trees', 'and', 'how', 'the', 'ground', 'was', 'covered', 'with', 'beautiful', 'flowers']\n",
      "['she', 'thought', 'if', 'take', 'bouquet', 'to', 'grandmother', 'she', 'will', 'be', 'very', 'pleased']\n",
      "['anyway', 'it', 'is', 'still', 'early', 'and', 'll', 'be', 'home', 'on', 'time']\n",
      "['and', 'she', 'ran', 'off', 'into', 'the', 'woods', 'looking', 'for', 'flowers']\n",
      "['each', 'time', 'she', 'picked', 'one', 'she', 'thought', 'that', 'she', 'could', 'see', 'an', 'even', 'more', 'beautiful', 'one', 'little', 'way', 'off', 'and', 'she', 'ran', 'after', 'it', 'going', 'further', 'and', 'further', 'into', 'the', 'woods']\n",
      "['but', 'the', 'wolf', 'ran', 'straight', 'to', 'the', 'grandmother', 'house', 'and', 'knocked', 'on', 'the', 'door']\n",
      "['who', 'there', 'little', 'red', 'cap']\n",
      "['bringing', 'you', 'some', 'cake', 'and', 'wine']\n",
      "['open', 'the', 'door', 'for', 'me']\n",
      "['just', 'press', 'the', 'latch', 'called', 'out', 'the', 'grandmother']\n",
      "['too', 'weak', 'to', 'get', 'up']\n",
      "['the', 'wolf', 'pressed', 'the', 'latch', 'and', 'the', 'door', 'opened']\n",
      "['he', 'stepped', 'inside', 'went', 'straight', 'to', 'the', 'grandmother', 'bed', 'and', 'ate', 'her', 'up']\n",
      "['then', 'he', 'took', 'her', 'clothes', 'put', 'them', 'on', 'and', 'put', 'her', 'cap', 'on', 'his', 'head']\n",
      "['he', 'got', 'into', 'her', 'bed', 'and', 'pulled', 'the', 'curtains', 'shut']\n",
      "['little', 'red', 'cap', 'had', 'run', 'after', 'flowers', 'and', 'did', 'not', 'continue', 'on', 'her', 'way', 'to', 'grandmother', 'until', 'she', 'had', 'gathered', 'all', 'that', 'she', 'could', 'carry']\n",
      "['when', 'she', 'arrived', 'she', 'found', 'to', 'her', 'surprise', 'that', 'the', 'door', 'was', 'open']\n",
      "['she', 'walked', 'into', 'the', 'parlor', 'and', 'everything', 'looked', 'so', 'strange', 'that', 'she', 'thought', 'oh', 'my', 'god', 'why', 'am', 'so', 'afraid', 'usually', 'like', 'it', 'at', 'grandmother']\n",
      "['then', 'she', 'went', 'to', 'the', 'bed', 'and', 'pulled', 'back', 'the', 'curtains']\n",
      "['grandmother', 'was', 'lying', 'there', 'with', 'her', 'cap', 'pulled', 'down', 'over', 'her', 'face', 'and', 'looking', 'very', 'strange']\n",
      "['oh', 'grandmother', 'what', 'big', 'ears', 'you', 'have', 'all', 'the', 'better', 'to', 'hear', 'you', 'with']\n",
      "['oh', 'grandmother', 'what', 'big', 'eyes', 'you', 'have', 'all', 'the', 'better', 'to', 'see', 'you', 'with']\n",
      "['oh', 'grandmother', 'what', 'big', 'hands', 'you', 'have', 'all', 'the', 'better', 'to', 'grab', 'you', 'with', 'oh', 'grandmother', 'what', 'horribly', 'big', 'mouth', 'you', 'have', 'all', 'the', 'better', 'to', 'eat', 'you', 'with', 'and', 'with', 'that', 'he', 'jumped', 'out', 'of', 'bed', 'jumped', 'on', 'top', 'of', 'poor', 'little', 'red', 'cap', 'and', 'ate', 'her', 'up']\n",
      "['as', 'soon', 'as', 'the', 'wolf', 'had', 'finished', 'this', 'tasty', 'bite', 'he', 'climbed', 'back', 'into', 'bed', 'fell', 'asleep', 'and', 'began', 'to', 'snore', 'very', 'loudly']\n",
      "['huntsman', 'was', 'just', 'passing', 'by']\n",
      "['he', 'thought', 'it', 'strange', 'that', 'the', 'old', 'woman', 'was', 'snoring', 'so', 'loudly', 'so', 'he', 'decided', 'to', 'take', 'look']\n",
      "['he', 'stepped', 'inside', 'and', 'in', 'the', 'bed', 'there', 'lay', 'the', 'wolf', 'that', 'he', 'had', 'been', 'hunting', 'for', 'such', 'long', 'time']\n",
      "['he', 'has', 'eaten', 'the', 'grandmother', 'but', 'perhaps', 'she', 'still', 'can', 'be', 'saved']\n",
      "['won', 'shoot', 'him', 'thought', 'the', 'huntsman']\n",
      "['so', 'he', 'took', 'pair', 'of', 'scissors', 'and', 'cut', 'open', 'his', 'belly']\n",
      "['he', 'had', 'cut', 'only', 'few', 'strokes', 'when', 'he', 'saw', 'the', 'red', 'cap', 'shining', 'through']\n",
      "['he', 'cut', 'little', 'more', 'and', 'the', 'girl', 'jumped', 'out', 'and', 'cried', 'oh', 'was', 'so', 'frightened', 'it', 'was', 'so', 'dark', 'inside', 'the', 'wolf', 'body', 'and', 'then', 'the', 'grandmother', 'came', 'out', 'alive', 'as', 'well']\n",
      "['then', 'little', 'red', 'cap', 'fetched', 'some', 'large', 'heavy', 'stones']\n",
      "['they', 'filled', 'the', 'wolf', 'body', 'with', 'them', 'and', 'when', 'he', 'woke', 'up', 'and', 'tried', 'to', 'run', 'away', 'the', 'stones', 'were', 'so', 'heavy', 'that', 'he', 'fell', 'down', 'dead']\n",
      "['the', 'three', 'of', 'them', 'were', 'happy']\n",
      "['the', 'huntsman', 'took', 'the', 'wolf', 'pelt']\n",
      "['the', 'grandmother', 'ate', 'the', 'cake', 'and', 'drank', 'the', 'wine', 'that', 'little', 'red', 'cap', 'had', 'brought']\n",
      "['and', 'little', 'red', 'cap', 'thought', 'to', 'herself', 'as', 'long', 'as', 'live', 'will', 'never', 'leave', 'the', 'path', 'and', 'run', 'off', 'into', 'the', 'woods', 'by', 'myself', 'if', 'mother', 'tells', 'me', 'not', 'to']\n",
      "['they', 'also', 'tell', 'how', 'little', 'red', 'cap', 'was', 'taking', 'some', 'baked', 'things', 'to', 'her', 'grandmother', 'another', 'time', 'when', 'another', 'wolf', 'spoke', 'to', 'her', 'and', 'wanted', 'her', 'to', 'leave', 'the', 'path']\n",
      "['but', 'little', 'red', 'cap', 'took', 'care', 'and', 'went', 'straight', 'to', 'grandmother']\n",
      "['she', 'told', 'her', 'that', 'she', 'had', 'seen', 'the', 'wolf', 'and', 'that', 'he', 'had', 'wished', 'her', 'good', 'day', 'but', 'had', 'stared', 'at', 'her', 'in', 'wicked', 'manner']\n",
      "['if', 'we', 'hadn', 'been', 'on', 'public', 'road', 'he', 'would', 'have', 'eaten', 'me', 'up', 'she', 'said']\n",
      "['come', 'said', 'the', 'grandmother']\n",
      "['let', 'lock', 'the', 'door', 'so', 'he', 'can', 'get', 'in']\n",
      "['soon', 'afterward', 'the', 'wolf', 'knocked', 'on', 'the', 'door', 'and', 'called', 'out', 'open', 'up', 'grandmother']\n",
      "['it', 'little', 'red', 'cap', 'and', 'bringing', 'you', 'some', 'baked', 'things']\n",
      "['they', 'remained', 'silent', 'and', 'did', 'not', 'open', 'the', 'door']\n",
      "['the', 'wicked', 'one', 'walked', 'around', 'the', 'house', 'several', 'times', 'and', 'finally', 'jumped', 'onto', 'the', 'roof']\n",
      "['he', 'wanted', 'to', 'wait', 'until', 'little', 'red', 'cap', 'went', 'home', 'that', 'evening', 'then', 'follow', 'her', 'and', 'eat', 'her', 'up', 'in', 'the', 'darkness']\n",
      "['but', 'the', 'grandmother', 'saw', 'what', 'he', 'was', 'up', 'to']\n",
      "['there', 'was', 'large', 'stone', 'trough', 'in', 'front', 'of', 'the', 'house']\n",
      "['fetch', 'bucket', 'little', 'red', 'cap', 'she', 'said']\n",
      "['yesterday', 'cooked', 'some', 'sausage']\n",
      "['carry', 'the', 'water', 'that', 'boiled', 'them', 'with', 'to', 'the', 'trough']\n",
      "['little', 'red', 'cap', 'carried', 'water', 'until', 'the', 'large', 'large', 'trough', 'was', 'clear', 'full']\n",
      "['the', 'smell', 'of', 'sausage', 'arose', 'into', 'the', 'wolf', 'nose']\n",
      "['he', 'sniffed', 'and', 'looked', 'down', 'stretching', 'his', 'neck', 'so', 'long', 'that', 'he', 'could', 'no', 'longer', 'hold', 'himself', 'and', 'he', 'began', 'to', 'slide']\n",
      "['he', 'slid', 'off', 'the', 'roof', 'fell', 'into', 'the', 'trough', 'and', 'drowned']\n",
      "['and', 'little', 'red', 'cap', 'returned', 'home', 'happily', 'and', 'safely']\n",
      "['source', 'rothkappchen', 'kinder', 'und', 'hausmarchen', 'st', 'ed']\n",
      "['berlin']\n",
      "['no']\n",
      "['pp']\n",
      "[]\n",
      "['translated', 'by']\n",
      "[]\n",
      "['ashliman']\n",
      "['the', 'grimms', 'source', 'for', 'the', 'first', 'variant', 'the', 'main', 'story', 'was', 'jeanette', 'hassenpflug']\n",
      "['marie', 'hassenpflug', 'provided', 'them', 'with', 'the', 'second', 'variant', 'the', 'concluding', 'episode', 'introduced', 'with', 'the', 'sentence', 'they', 'also', 'tell', 'how', 'little', 'red', 'cap', 'was', 'taking', 'some', 'baked', 'things', 'to', 'her', 'grandmother', 'another', 'time']\n",
      "[]\n",
      "[]\n",
      "[]\n",
      "['the', 'german', 'title', 'of', 'this', 'tale', 'is', 'rotkappchen', 'rothkappchen', 'in', 'the', 'nineteenth', 'century', 'spelling', 'of', 'the', 'grimm', 'brothers']\n",
      "['link', 'to', 'an', 'english', 'translation', 'of', 'the', 'grimms', 'final', 'version', 'edition', 'of', 'of', 'little', 'red', 'cap']\n",
      "['link', 'to', 'the', 'german', 'text', 'of', 'the', 'grimms', 'final', 'version', 'rothkappchen', 'kinder', 'und', 'hausmarchen', 'gesammelt', 'durch', 'die', 'bruder', 'grimm', 'th', 'edition', 'vol']\n",
      "['gottingen', 'verlag', 'der', 'dieterichschen', 'buchhandlung', 'no']\n",
      "['pp']\n",
      "[]\n",
      "[]\n"
     ]
    }
   ],
   "source": [
    "import gensim\n",
    "import os\n",
    "from gensim.utils import simple_preprocess\n",
    "  \n",
    "#  прочитать текстовый файл как объект\n",
    "doc = open('Little_Red_Cap_ Jacob_and_Wilhelm_Grimm.txt', encoding ='utf-8')\n",
    "  \n",
    "# предварительная обработка файла для получения списка токенов\n",
    "tokenized = []\n",
    "for sentence in doc.read().split('.'):\n",
    "    # функция simple_preprocess возвращает список слов каждого предложения\n",
    "    tokenized.append(simple_preprocess(sentence, deacc = True))\n",
    "  \n",
    "for i in tokenized:\n",
    "    print(i)\n",
    "doc.close()"
   ]
  },
  {
   "attachments": {},
   "cell_type": "markdown",
   "metadata": {},
   "source": [
    "### Pyinflect чтобы изменять слова (времена глагола, степени прилагательных, число множ/ед)"
   ]
  },
  {
   "cell_type": "code",
   "execution_count": 31,
   "metadata": {},
   "outputs": [
    {
     "data": {
      "text/plain": [
       "'examples'"
      ]
     },
     "execution_count": 31,
     "metadata": {},
     "output_type": "execute_result"
    }
   ],
   "source": [
    "import pyinflect\n",
    "nlp = spacy.load('en_core_web_sm')\n",
    "tokens = nlp('This is an example of xxtest.')\n",
    "tokens[3]._.inflect('NNS')"
   ]
  },
  {
   "cell_type": "code",
   "execution_count": 45,
   "metadata": {},
   "outputs": [
    {
     "name": "stdout",
     "output_type": "stream",
     "text": [
      "None\n",
      "None\n",
      "None\n",
      "was\n",
      "were\n",
      "was\n",
      "None\n",
      "None\n",
      "None\n",
      "exampled\n",
      "exampled\n",
      "exampled\n",
      "None\n",
      "None\n",
      "None\n",
      "None\n",
      "None\n",
      "None\n",
      "None\n",
      "None\n",
      "None\n"
     ]
    }
   ],
   "source": [
    "for i in range(len(tokens)):\n",
    "    # тут условие if проверка на часть речи\n",
    "    for j in range(0, 3):\n",
    "        print(tokens[i]._.inflect('VBD', form_num=j))"
   ]
  },
  {
   "cell_type": "code",
   "execution_count": 33,
   "metadata": {},
   "outputs": [
    {
     "data": {
      "text/plain": [
       "'were'"
      ]
     },
     "execution_count": 33,
     "metadata": {},
     "output_type": "execute_result"
    }
   ],
   "source": [
    "tokens[1]._.inflect('VBD', form_num=1)"
   ]
  },
  {
   "cell_type": "code",
   "execution_count": 34,
   "metadata": {},
   "outputs": [
    {
     "data": {
      "text/plain": [
       "'xxtesting'"
      ]
     },
     "execution_count": 34,
     "metadata": {},
     "output_type": "execute_result"
    }
   ],
   "source": [
    "tokens[5]._.inflect('VBG', inflect_oov=True)"
   ]
  },
  {
   "cell_type": "code",
   "execution_count": null,
   "metadata": {},
   "outputs": [],
   "source": []
  },
  {
   "cell_type": "code",
   "execution_count": null,
   "metadata": {},
   "outputs": [],
   "source": []
  },
  {
   "attachments": {},
   "cell_type": "markdown",
   "metadata": {},
   "source": [
    "### Bag of word (BOW)"
   ]
  },
  {
   "cell_type": "code",
   "execution_count": 14,
   "metadata": {},
   "outputs": [
    {
     "data": {
      "text/html": [
       "<div>\n",
       "<style scoped>\n",
       "    .dataframe tbody tr th:only-of-type {\n",
       "        vertical-align: middle;\n",
       "    }\n",
       "\n",
       "    .dataframe tbody tr th {\n",
       "        vertical-align: top;\n",
       "    }\n",
       "\n",
       "    .dataframe thead th {\n",
       "        text-align: right;\n",
       "    }\n",
       "</style>\n",
       "<table border=\"1\" class=\"dataframe\">\n",
       "  <thead>\n",
       "    <tr style=\"text-align: right;\">\n",
       "      <th></th>\n",
       "      <th>sentence</th>\n",
       "    </tr>\n",
       "  </thead>\n",
       "  <tbody>\n",
       "    <tr>\n",
       "      <th>0</th>\n",
       "      <td>Once upon a time there was a sweet little girl.</td>\n",
       "    </tr>\n",
       "    <tr>\n",
       "      <th>1</th>\n",
       "      <td>Everyone who saw her liked her, but most of all her grandmother, who did not know what to give the child next.</td>\n",
       "    </tr>\n",
       "    <tr>\n",
       "      <th>2</th>\n",
       "      <td>Once she gave her a little cap made of red velvet.</td>\n",
       "    </tr>\n",
       "    <tr>\n",
       "      <th>3</th>\n",
       "      <td>Because it suited her so well, and she wanted to wear it all the time, she came to be known as Little Red Cap.</td>\n",
       "    </tr>\n",
       "    <tr>\n",
       "      <th>4</th>\n",
       "      <td>One day her mother said to her, \"Come Little Red Cap.</td>\n",
       "    </tr>\n",
       "    <tr>\n",
       "      <th>5</th>\n",
       "      <td>Here is a piece of cake and a bottle of wine.</td>\n",
       "    </tr>\n",
       "    <tr>\n",
       "      <th>6</th>\n",
       "      <td>Take them to your grandmother.</td>\n",
       "    </tr>\n",
       "    <tr>\n",
       "      <th>7</th>\n",
       "      <td>She is sick and weak, and they will do her well.</td>\n",
       "    </tr>\n",
       "    <tr>\n",
       "      <th>8</th>\n",
       "      <td>Mind your manners and give her my greetings.</td>\n",
       "    </tr>\n",
       "    <tr>\n",
       "      <th>9</th>\n",
       "      <td>Behave yourself on the way, and do not leave the path, or you might fall down and break the glass, and then there will be nothing for your sick grandmother.\"</td>\n",
       "    </tr>\n",
       "    <tr>\n",
       "      <th>10</th>\n",
       "      <td>Little Red Cap promised to obey her mother.</td>\n",
       "    </tr>\n",
       "    <tr>\n",
       "      <th>11</th>\n",
       "      <td>The grandmother lived out in the woods, a half hour from the village.</td>\n",
       "    </tr>\n",
       "    <tr>\n",
       "      <th>12</th>\n",
       "      <td>When Little Red Cap entered the woods a wolf came up to her.</td>\n",
       "    </tr>\n",
       "    <tr>\n",
       "      <th>13</th>\n",
       "      <td>She did not know what a wicked animal he was, and was not afraid of him.</td>\n",
       "    </tr>\n",
       "    <tr>\n",
       "      <th>14</th>\n",
       "      <td>\"Good day to you, Little Red Cap.\"</td>\n",
       "    </tr>\n",
       "    <tr>\n",
       "      <th>15</th>\n",
       "      <td>\"Thank you, wolf.\"</td>\n",
       "    </tr>\n",
       "    <tr>\n",
       "      <th>16</th>\n",
       "      <td>\"Where are you going so early, Little Red Cap?\"</td>\n",
       "    </tr>\n",
       "    <tr>\n",
       "      <th>17</th>\n",
       "      <td>\"To grandmother's.\"</td>\n",
       "    </tr>\n",
       "    <tr>\n",
       "      <th>18</th>\n",
       "      <td>\"And what are you carrying under your apron?\"</td>\n",
       "    </tr>\n",
       "  </tbody>\n",
       "</table>\n",
       "</div>"
      ],
      "text/plain": [
       "                                                                                                                                                         sentence\n",
       "0                                                                                                                 Once upon a time there was a sweet little girl.\n",
       "1                                                  Everyone who saw her liked her, but most of all her grandmother, who did not know what to give the child next.\n",
       "2                                                                                                              Once she gave her a little cap made of red velvet.\n",
       "3                                                  Because it suited her so well, and she wanted to wear it all the time, she came to be known as Little Red Cap.\n",
       "4                                                                                                           One day her mother said to her, \"Come Little Red Cap.\n",
       "5                                                                                                                   Here is a piece of cake and a bottle of wine.\n",
       "6                                                                                                                                  Take them to your grandmother.\n",
       "7                                                                                                                She is sick and weak, and they will do her well.\n",
       "8                                                                                                                    Mind your manners and give her my greetings.\n",
       "9   Behave yourself on the way, and do not leave the path, or you might fall down and break the glass, and then there will be nothing for your sick grandmother.\"\n",
       "10                                                                                                                    Little Red Cap promised to obey her mother.\n",
       "11                                                                                          The grandmother lived out in the woods, a half hour from the village.\n",
       "12                                                                                                   When Little Red Cap entered the woods a wolf came up to her.\n",
       "13                                                                                       She did not know what a wicked animal he was, and was not afraid of him.\n",
       "14                                                                                                                             \"Good day to you, Little Red Cap.\"\n",
       "15                                                                                                                                             \"Thank you, wolf.\"\n",
       "16                                                                                                                \"Where are you going so early, Little Red Cap?\"\n",
       "17                                                                                                                                            \"To grandmother's.\"\n",
       "18                                                                                                                  \"And what are you carrying under your apron?\""
      ]
     },
     "execution_count": 14,
     "metadata": {},
     "output_type": "execute_result"
    }
   ],
   "source": [
    "df_sentences"
   ]
  },
  {
   "cell_type": "code",
   "execution_count": 20,
   "metadata": {},
   "outputs": [],
   "source": [
    "allsentences = [\"Joe waited for the train train\", \"The train was late\", \"Mary and Samantha took the bus\"]"
   ]
  },
  {
   "cell_type": "code",
   "execution_count": 31,
   "metadata": {},
   "outputs": [
    {
     "name": "stdout",
     "output_type": "stream",
     "text": [
      "[[0 0 1 1 0 0 0 1 0 2 1 0]\n",
      " [0 0 0 0 1 0 0 1 0 1 0 1]\n",
      " [1 1 0 0 0 1 1 1 1 0 0 0]]\n"
     ]
    }
   ],
   "source": [
    "from sklearn.feature_extraction.text import CountVectorizer\n",
    "vectorizer = CountVectorizer()\n",
    "X = vectorizer.fit_transform(allsentences)\n",
    "print(X.toarray())"
   ]
  },
  {
   "cell_type": "code",
   "execution_count": 29,
   "metadata": {},
   "outputs": [
    {
     "data": {
      "text/plain": [
       "['Once upon a time there was a sweet little girl.',\n",
       " 'Everyone who saw her liked her, but most of all her grandmother, who did not know what to give the child next.',\n",
       " 'Once she gave her a little cap made of red velvet.',\n",
       " 'Because it suited her so well, and she wanted to wear it all the time, she came to be known as Little Red Cap.',\n",
       " 'One day her mother said to her, \"Come Little Red Cap.',\n",
       " 'Here is a piece of cake and a bottle of wine.',\n",
       " 'Take them to your grandmother.',\n",
       " 'She is sick and weak, and they will do her well.',\n",
       " 'Mind your manners and give her my greetings.',\n",
       " 'Behave yourself on the way, and do not leave the path, or you might fall down and break the glass, and then there will be nothing for your sick grandmother.\"',\n",
       " 'Little Red Cap promised to obey her mother.',\n",
       " 'The grandmother lived out in the woods, a half hour from the village.',\n",
       " 'When Little Red Cap entered the woods a wolf came up to her.',\n",
       " 'She did not know what a wicked animal he was, and was not afraid of him.',\n",
       " '\"Good day to you, Little Red Cap.\"',\n",
       " '\"Thank you, wolf.\"',\n",
       " '\"Where are you going so early, Little Red Cap?\"',\n",
       " '\"To grandmother\\'s.\"',\n",
       " '\"And what are you carrying under your apron?\"']"
      ]
     },
     "execution_count": 29,
     "metadata": {},
     "output_type": "execute_result"
    }
   ],
   "source": [
    "df_sentences.sentence.values.tolist()"
   ]
  },
  {
   "cell_type": "code",
   "execution_count": 33,
   "metadata": {},
   "outputs": [
    {
     "data": {
      "text/plain": [
       "<3x12 sparse matrix of type '<class 'numpy.int64'>'\n",
       "\twith 15 stored elements in Compressed Sparse Row format>"
      ]
     },
     "execution_count": 33,
     "metadata": {},
     "output_type": "execute_result"
    }
   ],
   "source": [
    "X"
   ]
  }
 ],
 "metadata": {
  "kernelspec": {
   "display_name": "base",
   "language": "python",
   "name": "python3"
  },
  "language_info": {
   "codemirror_mode": {
    "name": "ipython",
    "version": 3
   },
   "file_extension": ".py",
   "mimetype": "text/x-python",
   "name": "python",
   "nbconvert_exporter": "python",
   "pygments_lexer": "ipython3",
   "version": "3.9.16"
  },
  "orig_nbformat": 4
 },
 "nbformat": 4,
 "nbformat_minor": 2
}

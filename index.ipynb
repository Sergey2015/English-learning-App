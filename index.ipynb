import pandas as pd
import nltk
import re
import transformers
#from tensorflow.python.keras.models import transformers
import numpy as np
import matplotlib.pyplot as plt
import warnings
import matplotlib.pyplot as plt

from sklearn.feature_extraction.text import TfidfVectorizer, CountVectorizer, TfidfTransformer
from sklearn.pipeline import Pipeline
from sklearn.metrics import f1_score, roc_curve
from sklearn.linear_model import LogisticRegression, SGDClassifier
from sklearn.ensemble import RandomForestClassifier
from sklearn.model_selection import train_test_split, cross_val_score, GridSearchCV, RandomizedSearchCV
from catboost import CatBoostClassifier
from nltk.corpus import stopwords as nltk_stopwords
from pymystem3 import Mystem
from tqdm.notebook import tqdm
from wordcloud import WordCloud
warnings.filterwarnings('ignore')